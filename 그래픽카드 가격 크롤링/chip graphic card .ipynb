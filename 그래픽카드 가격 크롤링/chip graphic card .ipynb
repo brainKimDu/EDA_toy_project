{
 "cells": [
  {
   "cell_type": "code",
   "execution_count": 1,
   "id": "ba4e24ad",
   "metadata": {},
   "outputs": [],
   "source": [
    "import requests\n",
    "import pandas as pd\n",
    "from bs4 import BeautifulSoup"
   ]
  },
  {
   "cell_type": "code",
   "execution_count": 2,
   "id": "62888a9e",
   "metadata": {},
   "outputs": [],
   "source": [
    "url = 'https://browse.gmarket.co.kr/search?keyword=rtx3070&f=c:100000055'"
   ]
  },
  {
   "cell_type": "code",
   "execution_count": 4,
   "id": "7136e5b6",
   "metadata": {},
   "outputs": [
    {
     "data": {
      "text/plain": [
       "<Response [200]>"
      ]
     },
     "execution_count": 4,
     "metadata": {},
     "output_type": "execute_result"
    }
   ],
   "source": [
    "response = requests.get(url)\n",
    "response"
   ]
  },
  {
   "cell_type": "code",
   "execution_count": 5,
   "id": "f4e36ce5",
   "metadata": {},
   "outputs": [],
   "source": [
    "soup = BeautifulSoup(response.content, \"html.parser\")"
   ]
  },
  {
   "cell_type": "code",
   "execution_count": 6,
   "id": "0a1e5daf",
   "metadata": {},
   "outputs": [
    {
     "data": {
      "text/plain": [
       "[<span class=\"text__item\" title=\"중고 GALAX 지포스 RTX 3070 EX WHITE OC V3 D6 8GB 풀박스\"> <!-- -->중고 GALAX 지포스 RTX 3070 EX WHITE OC V3 D6 8GB 풀박스<!-- --> </span>]"
      ]
     },
     "execution_count": 6,
     "metadata": {},
     "output_type": "execute_result"
    }
   ],
   "source": [
    "GPU3070 =soup.select('#section__inner-content-body-container > div:nth-child(2) > div:nth-child(12) > div.box__item-container > div.box__information > div.box__information-major > div.box__item-title > span > a > span.text__item')\n",
    "GPU3070"
   ]
  },
  {
   "cell_type": "code",
   "execution_count": 10,
   "id": "6ca87d1f",
   "metadata": {},
   "outputs": [
    {
     "data": {
      "text/plain": [
       "100"
      ]
     },
     "execution_count": 10,
     "metadata": {},
     "output_type": "execute_result"
    }
   ],
   "source": [
    "GPU3070 =soup.select('#section__inner-content-body-container > div:nth-child(2) > div')\n",
    "len(GPU3070)\n"
   ]
  },
  {
   "cell_type": "code",
   "execution_count": 98,
   "id": "aaa8a4d7",
   "metadata": {},
   "outputs": [
    {
     "data": {
      "text/plain": [
       "' MSI RTX 3070 Ti 슈프림 X D6X 8GB 트라이프로져2S '"
      ]
     },
     "execution_count": 98,
     "metadata": {},
     "output_type": "execute_result"
    }
   ],
   "source": [
    "one = GPU3070[1]\n",
    "title1 = one.select_one(\".text__item\").text\n",
    "title1"
   ]
  },
  {
   "cell_type": "code",
   "execution_count": 99,
   "id": "a4e64a1c",
   "metadata": {},
   "outputs": [
    {
     "data": {
      "text/plain": [
       "94550.0"
      ]
     },
     "execution_count": 99,
     "metadata": {},
     "output_type": "execute_result"
    }
   ],
   "source": [
    "price1 = int(item.select_one(\".box__price-seller\").text.strip().split(\" \")[1].replace(\",\",\"\").replace(\"원\",\"\"))/10\n",
    "price1"
   ]
  },
  {
   "cell_type": "code",
   "execution_count": 100,
   "id": "0baf71d8",
   "metadata": {},
   "outputs": [
    {
     "data": {
      "text/plain": [
       "''"
      ]
     },
     "execution_count": 100,
     "metadata": {},
     "output_type": "execute_result"
    }
   ],
   "source": [
    "tag1 = one.select_one(\".list-item__tag\").text\n",
    "tag1"
   ]
  },
  {
   "cell_type": "code",
   "execution_count": 104,
   "id": "c9eed297",
   "metadata": {},
   "outputs": [
    {
     "data": {
      "text/html": [
       "<div>\n",
       "<style scoped>\n",
       "    .dataframe tbody tr th:only-of-type {\n",
       "        vertical-align: middle;\n",
       "    }\n",
       "\n",
       "    .dataframe tbody tr th {\n",
       "        vertical-align: top;\n",
       "    }\n",
       "\n",
       "    .dataframe thead th {\n",
       "        text-align: right;\n",
       "    }\n",
       "</style>\n",
       "<table border=\"1\" class=\"dataframe\">\n",
       "  <thead>\n",
       "    <tr style=\"text-align: right;\">\n",
       "      <th></th>\n",
       "      <th>title</th>\n",
       "      <th>price</th>\n",
       "      <th>tag</th>\n",
       "    </tr>\n",
       "  </thead>\n",
       "  <tbody>\n",
       "    <tr>\n",
       "      <th>38</th>\n",
       "      <td>중고 그래픽카드 지포스 RTX 3070 D6 8GB 할인 염가 판매 무료배송</td>\n",
       "      <td>42560.0</td>\n",
       "      <td></td>\n",
       "    </tr>\n",
       "    <tr>\n",
       "      <th>15</th>\n",
       "      <td>중고 ZOTAC GAMING RTX 3070 TWIN Edge OC D6 8GB ...</td>\n",
       "      <td>46800.0</td>\n",
       "      <td>배송비 3,000원</td>\n",
       "    </tr>\n",
       "    <tr>\n",
       "      <th>11</th>\n",
       "      <td>중고 GALAX 지포스 RTX 3070 EX WHITE OC V3 D6 8GB 풀박스</td>\n",
       "      <td>47287.0</td>\n",
       "      <td></td>\n",
       "    </tr>\n",
       "    <tr>\n",
       "      <th>13</th>\n",
       "      <td>중고 갤럭시 GALAX 지포스 RTX 3070 EX WHITE OC D6 8GB V3</td>\n",
       "      <td>47346.0</td>\n",
       "      <td>중고상품</td>\n",
       "    </tr>\n",
       "    <tr>\n",
       "      <th>35</th>\n",
       "      <td>중고 ASUS TUF Gaming RTX 3070 Ti O8G OC D6X 8GB</td>\n",
       "      <td>55000.0</td>\n",
       "      <td>배송비 3,000원</td>\n",
       "    </tr>\n",
       "    <tr>\n",
       "      <th>32</th>\n",
       "      <td>중고 ZOTAC 지포스 RTX 3070 Ti Trinity OC D6X 8GB 무...</td>\n",
       "      <td>55500.0</td>\n",
       "      <td>배송비 3,000원</td>\n",
       "    </tr>\n",
       "    <tr>\n",
       "      <th>60</th>\n",
       "      <td>PNY RTX 3070 UPRISING D6 8GB Dual LHR 마이크로닉스</td>\n",
       "      <td>75612.0</td>\n",
       "      <td>배송비 3,000원</td>\n",
       "    </tr>\n",
       "    <tr>\n",
       "      <th>33</th>\n",
       "      <td>지포스 RTX 3070 UPRISING D6 8GB Dual LHR 마이크로닉스</td>\n",
       "      <td>75785.0</td>\n",
       "      <td>배송비 3,000원</td>\n",
       "    </tr>\n",
       "    <tr>\n",
       "      <th>5</th>\n",
       "      <td>MSI 지포스 RTX 3070 벤투스 2X OC D6 8GB LHR +안전포장</td>\n",
       "      <td>76900.0</td>\n",
       "      <td></td>\n",
       "    </tr>\n",
       "    <tr>\n",
       "      <th>7</th>\n",
       "      <td>MSI 지포스 RTX 3070 벤투스 2X OC D6 8GB LHR</td>\n",
       "      <td>76900.0</td>\n",
       "      <td></td>\n",
       "    </tr>\n",
       "    <tr>\n",
       "      <th>9</th>\n",
       "      <td>ZOTAC GAMING 지포스 RTX 3070 TWIN Edge OC D6 8GB...</td>\n",
       "      <td>79900.0</td>\n",
       "      <td></td>\n",
       "    </tr>\n",
       "    <tr>\n",
       "      <th>55</th>\n",
       "      <td>PNY 지포스 RTX 3070 UPRISING D6 8GB Dual LHR (JC)</td>\n",
       "      <td>80280.0</td>\n",
       "      <td>배송비 2,500원</td>\n",
       "    </tr>\n",
       "    <tr>\n",
       "      <th>50</th>\n",
       "      <td>(포)PALIT 지포스 RTX 3070 GAMINGPRO D6 8GB LHR</td>\n",
       "      <td>81084.0</td>\n",
       "      <td>배송비 2,500원</td>\n",
       "    </tr>\n",
       "    <tr>\n",
       "      <th>52</th>\n",
       "      <td>(포)COLORFUL RTX 3070 토마호크 V2 D6 8GB LHR</td>\n",
       "      <td>82584.0</td>\n",
       "      <td></td>\n",
       "    </tr>\n",
       "    <tr>\n",
       "      <th>14</th>\n",
       "      <td>ASUS KO 지포스 RTX 3070 O8G GAMING OC D6 8GB LHR</td>\n",
       "      <td>83325.0</td>\n",
       "      <td>배송비 3,000원</td>\n",
       "    </tr>\n",
       "    <tr>\n",
       "      <th>21</th>\n",
       "      <td>기가 지포스 RTX 3070 EAGLE OC V2 D6 8GB 제이씨현</td>\n",
       "      <td>83334.0</td>\n",
       "      <td>배송비 2,500원</td>\n",
       "    </tr>\n",
       "    <tr>\n",
       "      <th>19</th>\n",
       "      <td>(아이코다) 이엠텍 지포스 RTX 3070 BLACK EDITION OC 8GB ...</td>\n",
       "      <td>83508.0</td>\n",
       "      <td>배송비 3,000원</td>\n",
       "    </tr>\n",
       "    <tr>\n",
       "      <th>8</th>\n",
       "      <td>MSI RTX 3070 게이밍 Z D6 8GB 트라이프로져2 LHR</td>\n",
       "      <td>83900.0</td>\n",
       "      <td></td>\n",
       "    </tr>\n",
       "    <tr>\n",
       "      <th>3</th>\n",
       "      <td>MSI RTX3070 게이밍 Z TRIO D6 8GB 트라이프로져2 LHR +안전포장</td>\n",
       "      <td>83900.0</td>\n",
       "      <td>배송비 2,500원</td>\n",
       "    </tr>\n",
       "    <tr>\n",
       "      <th>58</th>\n",
       "      <td>MSI 지포스 RTX 3070 게이밍 Z 트리오 트프2 V2 LHR</td>\n",
       "      <td>83900.0</td>\n",
       "      <td>배송비 3,000원</td>\n",
       "    </tr>\n",
       "    <tr>\n",
       "      <th>39</th>\n",
       "      <td>:MSI RTX 3070 게이밍Z 트리오 D6 8G 트라이프로2 LHR</td>\n",
       "      <td>83900.0</td>\n",
       "      <td></td>\n",
       "    </tr>\n",
       "    <tr>\n",
       "      <th>47</th>\n",
       "      <td>ZOTAC GAMING 지포스 RTX3070 TWIN Edge OC D6 8G LHR</td>\n",
       "      <td>84700.0</td>\n",
       "      <td>배송비 2,500원</td>\n",
       "    </tr>\n",
       "    <tr>\n",
       "      <th>57</th>\n",
       "      <td>GIGABYTE RTX 3070 EAGLE OC V2 D6 8GB 제이씨현</td>\n",
       "      <td>85200.0</td>\n",
       "      <td>배송비 3,000원</td>\n",
       "    </tr>\n",
       "    <tr>\n",
       "      <th>25</th>\n",
       "      <td>이엠텍 지포스 RTX 3070 BLACK EDITION OC D6 8GB LHR</td>\n",
       "      <td>85202.0</td>\n",
       "      <td></td>\n",
       "    </tr>\n",
       "    <tr>\n",
       "      <th>22</th>\n",
       "      <td>지포스 RTX 3070 BLACK EDITION OC D6 8GB LHR</td>\n",
       "      <td>86640.0</td>\n",
       "      <td></td>\n",
       "    </tr>\n",
       "    <tr>\n",
       "      <th>31</th>\n",
       "      <td>P GIGABYTE 지포스 RTX 3070 EAGLE OC V2 D6 8GB 제이씨현</td>\n",
       "      <td>86700.0</td>\n",
       "      <td></td>\n",
       "    </tr>\n",
       "    <tr>\n",
       "      <th>24</th>\n",
       "      <td>(아이코다) ASUS 지포스 RTX 3070 Ti TUF Gaming O8G OC...</td>\n",
       "      <td>87600.0</td>\n",
       "      <td>배송비 3,000원</td>\n",
       "    </tr>\n",
       "    <tr>\n",
       "      <th>65</th>\n",
       "      <td>:갤럭시 GALAX 지포스 RTX 3070 D6 8GB LHR 정품</td>\n",
       "      <td>87656.0</td>\n",
       "      <td></td>\n",
       "    </tr>\n",
       "    <tr>\n",
       "      <th>48</th>\n",
       "      <td>:MSI RTX 3070 Ti 게이밍X트리오 D6X 8G 트라이프로져</td>\n",
       "      <td>87900.0</td>\n",
       "      <td></td>\n",
       "    </tr>\n",
       "    <tr>\n",
       "      <th>2</th>\n",
       "      <td>MSI RTX 3070 Ti 게이밍 X 트리오 8GB 트라이프로져2 +안전포장</td>\n",
       "      <td>87900.0</td>\n",
       "      <td></td>\n",
       "    </tr>\n",
       "  </tbody>\n",
       "</table>\n",
       "</div>"
      ],
      "text/plain": [
       "                                                title    price         tag\n",
       "38        중고 그래픽카드 지포스 RTX 3070 D6 8GB 할인 염가 판매 무료배송   42560.0            \n",
       "15   중고 ZOTAC GAMING RTX 3070 TWIN Edge OC D6 8GB ...  46800.0  배송비 3,000원\n",
       "11   중고 GALAX 지포스 RTX 3070 EX WHITE OC V3 D6 8GB 풀박스   47287.0            \n",
       "13   중고 갤럭시 GALAX 지포스 RTX 3070 EX WHITE OC D6 8GB V3   47346.0        중고상품\n",
       "35     중고 ASUS TUF Gaming RTX 3070 Ti O8G OC D6X 8GB   55000.0  배송비 3,000원\n",
       "32   중고 ZOTAC 지포스 RTX 3070 Ti Trinity OC D6X 8GB 무...  55500.0  배송비 3,000원\n",
       "60      PNY RTX 3070 UPRISING D6 8GB Dual LHR 마이크로닉스   75612.0  배송비 3,000원\n",
       "33      지포스 RTX 3070 UPRISING D6 8GB Dual LHR 마이크로닉스   75785.0  배송비 3,000원\n",
       "5        MSI 지포스 RTX 3070 벤투스 2X OC D6 8GB LHR +안전포장   76900.0            \n",
       "7              MSI 지포스 RTX 3070 벤투스 2X OC D6 8GB LHR   76900.0            \n",
       "9    ZOTAC GAMING 지포스 RTX 3070 TWIN Edge OC D6 8GB...  79900.0            \n",
       "55    PNY 지포스 RTX 3070 UPRISING D6 8GB Dual LHR (JC)   80280.0  배송비 2,500원\n",
       "50        (포)PALIT 지포스 RTX 3070 GAMINGPRO D6 8GB LHR   81084.0  배송비 2,500원\n",
       "52           (포)COLORFUL RTX 3070 토마호크 V2 D6 8GB LHR   82584.0            \n",
       "14     ASUS KO 지포스 RTX 3070 O8G GAMING OC D6 8GB LHR   83325.0  배송비 3,000원\n",
       "21           기가 지포스 RTX 3070 EAGLE OC V2 D6 8GB 제이씨현   83334.0  배송비 2,500원\n",
       "19   (아이코다) 이엠텍 지포스 RTX 3070 BLACK EDITION OC 8GB ...  83508.0  배송비 3,000원\n",
       "8              MSI RTX 3070 게이밍 Z D6 8GB 트라이프로져2 LHR   83900.0            \n",
       "3    MSI RTX3070 게이밍 Z TRIO D6 8GB 트라이프로져2 LHR +안전포장   83900.0  배송비 2,500원\n",
       "58             MSI 지포스 RTX 3070 게이밍 Z 트리오 트프2 V2 LHR   83900.0  배송비 3,000원\n",
       "39           :MSI RTX 3070 게이밍Z 트리오 D6 8G 트라이프로2 LHR   83900.0            \n",
       "47   ZOTAC GAMING 지포스 RTX3070 TWIN Edge OC D6 8G LHR   84700.0  배송비 2,500원\n",
       "57         GIGABYTE RTX 3070 EAGLE OC V2 D6 8GB 제이씨현   85200.0  배송비 3,000원\n",
       "25      이엠텍 지포스 RTX 3070 BLACK EDITION OC D6 8GB LHR   85202.0            \n",
       "22          지포스 RTX 3070 BLACK EDITION OC D6 8GB LHR   86640.0            \n",
       "31   P GIGABYTE 지포스 RTX 3070 EAGLE OC V2 D6 8GB 제이씨현   86700.0            \n",
       "24   (아이코다) ASUS 지포스 RTX 3070 Ti TUF Gaming O8G OC...  87600.0  배송비 3,000원\n",
       "65             :갤럭시 GALAX 지포스 RTX 3070 D6 8GB LHR 정품   87656.0            \n",
       "48            :MSI RTX 3070 Ti 게이밍X트리오 D6X 8G 트라이프로져   87900.0            \n",
       "2        MSI RTX 3070 Ti 게이밍 X 트리오 8GB 트라이프로져2 +안전포장   87900.0            "
      ]
     },
     "execution_count": 104,
     "metadata": {},
     "output_type": "execute_result"
    }
   ],
   "source": [
    "datas = []\n",
    "\n",
    "for item in GPU3070:\n",
    "   datas.append({\n",
    "       \"title\": item.select_one(\".text__item\").text,\n",
    "       \"price\": int(item.select_one(\".box__price-seller\").text.strip().split(\" \")[1].replace(\",\",\"\").replace(\"원\",\"\"))/10,\n",
    "       \"tag\": item.select_one(\".list-item__tag\").text,\n",
    "   })\n",
    "\n",
    "df = pd.DataFrame(datas)\n",
    "df.sort_values(by=\"price\",ascending = True).head(30)\n"
   ]
  },
  {
   "cell_type": "code",
   "execution_count": 45,
   "id": "be310ac1",
   "metadata": {},
   "outputs": [
    {
     "data": {
      "text/html": [
       "<div>\n",
       "<style scoped>\n",
       "    .dataframe tbody tr th:only-of-type {\n",
       "        vertical-align: middle;\n",
       "    }\n",
       "\n",
       "    .dataframe tbody tr th {\n",
       "        vertical-align: top;\n",
       "    }\n",
       "\n",
       "    .dataframe thead th {\n",
       "        text-align: right;\n",
       "    }\n",
       "</style>\n",
       "<table border=\"1\" class=\"dataframe\">\n",
       "  <thead>\n",
       "    <tr style=\"text-align: right;\">\n",
       "      <th></th>\n",
       "      <th>title</th>\n",
       "      <th>price</th>\n",
       "      <th>tag</th>\n",
       "    </tr>\n",
       "  </thead>\n",
       "  <tbody>\n",
       "    <tr>\n",
       "      <th>0</th>\n",
       "      <td>갤럭시 GALAX RTX3070 Ti EX BLACK OC D6X 8GB</td>\n",
       "      <td>[[상품금액 ], [946,000], [원]]</td>\n",
       "      <td></td>\n",
       "    </tr>\n",
       "    <tr>\n",
       "      <th>1</th>\n",
       "      <td>MSI RTX 3070 Ti 슈프림 X D6X 8GB 트라이프로져2S</td>\n",
       "      <td>[[할인적용금액 ], [919,000], [원]]</td>\n",
       "      <td></td>\n",
       "    </tr>\n",
       "    <tr>\n",
       "      <th>2</th>\n",
       "      <td>MSI RTX 3070 Ti 게이밍 X 트리오 8GB 트라이프로져2 +안전포장</td>\n",
       "      <td>[[할인적용금액 ], [879,000], [원]]</td>\n",
       "      <td></td>\n",
       "    </tr>\n",
       "    <tr>\n",
       "      <th>3</th>\n",
       "      <td>MSI RTX3070 게이밍 Z TRIO D6 8GB 트라이프로져2 LHR +안전포장</td>\n",
       "      <td>[[할인적용금액 ], [839,000], [원]]</td>\n",
       "      <td>배송비 2,500원</td>\n",
       "    </tr>\n",
       "    <tr>\n",
       "      <th>4</th>\n",
       "      <td>GIGABYTE RTX 3070 VISION OC V2 D6 8GB 피씨디렉트</td>\n",
       "      <td>[[할인적용금액 ], [1,014,080], [원]]</td>\n",
       "      <td>배송비 2,500원</td>\n",
       "    </tr>\n",
       "    <tr>\n",
       "      <th>...</th>\n",
       "      <td>...</td>\n",
       "      <td>...</td>\n",
       "      <td>...</td>\n",
       "    </tr>\n",
       "    <tr>\n",
       "      <th>95</th>\n",
       "      <td>ASUS KO 지포스 RTX 3070 O8G GAMING OC D6 8GB</td>\n",
       "      <td>[[상품금액 ], [1,650,000], [원]]</td>\n",
       "      <td></td>\n",
       "    </tr>\n",
       "    <tr>\n",
       "      <th>96</th>\n",
       "      <td>갤럭시 GALAX 지포스 RTX 3070 Ti D6X 8GB</td>\n",
       "      <td>[[상품금액 ], [1,104,000], [원]]</td>\n",
       "      <td></td>\n",
       "    </tr>\n",
       "    <tr>\n",
       "      <th>97</th>\n",
       "      <td>(포)MANLI 지포스 RTX 3070 Ti Rush D6X 8GB LHR</td>\n",
       "      <td>[[상품금액 ], [1,508,000], [원]]</td>\n",
       "      <td>배송비 2,500원</td>\n",
       "    </tr>\n",
       "    <tr>\n",
       "      <th>98</th>\n",
       "      <td>COLORFUL iGAME RTX 3070 Ti Ultra OC D6X 8GB W...</td>\n",
       "      <td>[[상품금액 ], [1,008,000], [원]]</td>\n",
       "      <td></td>\n",
       "    </tr>\n",
       "    <tr>\n",
       "      <th>99</th>\n",
       "      <td>(포)COLORFUL 지포스 RTX 3070 Ti 토마호크 D6X 8GB</td>\n",
       "      <td>[[상품금액 ], [945,500], [원]]</td>\n",
       "      <td>배송비 2,500원</td>\n",
       "    </tr>\n",
       "  </tbody>\n",
       "</table>\n",
       "<p>100 rows × 3 columns</p>\n",
       "</div>"
      ],
      "text/plain": [
       "                                                title  \\\n",
       "0           갤럭시 GALAX RTX3070 Ti EX BLACK OC D6X 8GB    \n",
       "1             MSI RTX 3070 Ti 슈프림 X D6X 8GB 트라이프로져2S    \n",
       "2        MSI RTX 3070 Ti 게이밍 X 트리오 8GB 트라이프로져2 +안전포장    \n",
       "3    MSI RTX3070 게이밍 Z TRIO D6 8GB 트라이프로져2 LHR +안전포장    \n",
       "4        GIGABYTE RTX 3070 VISION OC V2 D6 8GB 피씨디렉트    \n",
       "..                                                ...   \n",
       "95         ASUS KO 지포스 RTX 3070 O8G GAMING OC D6 8GB    \n",
       "96                 갤럭시 GALAX 지포스 RTX 3070 Ti D6X 8GB    \n",
       "97         (포)MANLI 지포스 RTX 3070 Ti Rush D6X 8GB LHR    \n",
       "98   COLORFUL iGAME RTX 3070 Ti Ultra OC D6X 8GB W...   \n",
       "99          (포)COLORFUL 지포스 RTX 3070 Ti 토마호크 D6X 8GB    \n",
       "\n",
       "                            price         tag  \n",
       "0       [[상품금액 ], [946,000], [원]]              \n",
       "1     [[할인적용금액 ], [919,000], [원]]              \n",
       "2     [[할인적용금액 ], [879,000], [원]]              \n",
       "3     [[할인적용금액 ], [839,000], [원]]  배송비 2,500원  \n",
       "4   [[할인적용금액 ], [1,014,080], [원]]  배송비 2,500원  \n",
       "..                            ...         ...  \n",
       "95    [[상품금액 ], [1,650,000], [원]]              \n",
       "96    [[상품금액 ], [1,104,000], [원]]              \n",
       "97    [[상품금액 ], [1,508,000], [원]]  배송비 2,500원  \n",
       "98    [[상품금액 ], [1,008,000], [원]]              \n",
       "99      [[상품금액 ], [945,500], [원]]  배송비 2,500원  \n",
       "\n",
       "[100 rows x 3 columns]"
      ]
     },
     "execution_count": 45,
     "metadata": {},
     "output_type": "execute_result"
    }
   ],
   "source": [
    "df"
   ]
  },
  {
   "cell_type": "code",
   "execution_count": null,
   "id": "5e52cb31",
   "metadata": {},
   "outputs": [],
   "source": []
  }
 ],
 "metadata": {
  "kernelspec": {
   "display_name": "Python 3 (ipykernel)",
   "language": "python",
   "name": "python3"
  },
  "language_info": {
   "codemirror_mode": {
    "name": "ipython",
    "version": 3
   },
   "file_extension": ".py",
   "mimetype": "text/x-python",
   "name": "python",
   "nbconvert_exporter": "python",
   "pygments_lexer": "ipython3",
   "version": "3.9.12"
  }
 },
 "nbformat": 4,
 "nbformat_minor": 5
}
