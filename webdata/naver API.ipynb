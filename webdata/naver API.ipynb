{
 "cells": [
  {
   "cell_type": "markdown",
   "id": "295f5088",
   "metadata": {},
   "source": [
    "- 네이버 개발자 센터\n",
    "- application\n",
    "    - 어플리케이션 등록\n",
    "    - 어플리케이션 이름\n",
    "    - 사용API\n",
    "        - 검색\n",
    "        - 데이터랩(검색어트랜드)\n",
    "        - 데이터랩(쇼핑인사이드)\n",
    "    - 환경추가\n",
    "        - Web설정\n",
    "        - http://localhost\n",
    "\n",
    "'ajPeLsTsgXTaqSjnHCqV'\n",
    "\n",
    "'m4Bq7BlW37'\n",
    "\n",
    "- urllib: http 프로토콜에 따라서 서버의 요청/응답을 처리하기 위한 모듈\n",
    "- urllib.request : 클라이언트의 요청을 처리하는 모듈\n",
    "- urllib.parse : url 주소에 대한 분석\n",
    "\n"
   ]
  },
  {
   "cell_type": "code",
   "execution_count": 10,
   "id": "de99ecc8",
   "metadata": {},
   "outputs": [
    {
     "name": "stdout",
     "output_type": "stream",
     "text": [
      "{\n",
      "\t\"lastBuildDate\":\"Fri, 30 Sep 2022 11:03:35 +0900\",\n",
      "\t\"total\":358648,\n",
      "\t\"start\":1,\n",
      "\t\"display\":10,\n",
      "\t\"items\":[\n",
      "\t\t{\n",
      "\t\t\t\"title\":\"냉동<b>삼겹살<\\/b> 구이용 보쌈용 대패<b>삼겹살<\\/b> 1+1행사 1kg\",\n",
      "\t\t\t\"link\":\"https:\\/\\/search.shopping.naver.com\\/gate.nhn?id=82810684113\",\n",
      "\t\t\t\"image\":\"https:\\/\\/shopping-phinf.pstatic.net\\/main_8281068\\/82810684113.jpg\",\n",
      "\t\t\t\"lprice\":\"11700\",\n",
      "\t\t\t\"hprice\":\"\",\n",
      "\t\t\t\"mallName\":\"루루축산\",\n",
      "\t\t\t\"productId\":\"82810684113\",\n",
      "\t\t\t\"productType\":\"2\",\n",
      "\t\t\t\"brand\":\"\",\n",
      "\t\t\t\"maker\":\"\",\n",
      "\t\t\t\"category1\":\"식품\",\n",
      "\t\t\t\"category2\":\"축산물\",\n",
      "\t\t\t\"category3\":\"돼지고기\",\n",
      "\t\t\t\"category4\":\"수입산돼지고기\"\n",
      "\t\t},\n",
      "\t\t{\n",
      "\t\t\t\"title\":\"<b>삼겹살<\\/b> 냉동<b>삼겹살<\\/b> 통<b>삼겹살<\\/b> 수입 500g 1kg\",\n",
      "\t\t\t\"link\":\"https:\\/\\/search.shopping.naver.com\\/gate.nhn?id=82507878621\",\n",
      "\t\t\t\"image\":\"https:\\/\\/shopping-phinf.pstatic.net\\/main_8250787\\/82507878621.jpg\",\n",
      "\t\t\t\"lprice\":\"11500\",\n",
      "\t\t\t\"hprice\":\"\",\n",
      "\t\t\t\"mallName\":\"슈웅마켓\",\n",
      "\t\t\t\"productId\":\"82507878621\",\n",
      "\t\t\t\"productType\":\"2\",\n",
      "\t\t\t\"brand\":\"\",\n",
      "\t\t\t\"maker\":\"\",\n",
      "\t\t\t\"category1\":\"식품\",\n",
      "\t\t\t\"category2\":\"축산물\",\n",
      "\t\t\t\"category3\":\"돼지고기\",\n",
      "\t\t\t\"category4\":\"수입산돼지고기\"\n",
      "\t\t},\n",
      "\t\t{\n",
      "\t\t\t\"title\":\"<b>삼겹살<\\/b> 통<b>삼겹살<\\/b> 통삼겹 2kg 두께절단가능 냉동 수입 목살 대패<b>삼겹살<\\/b> 목전지 오겹살\",\n",
      "\t\t\t\"link\":\"https:\\/\\/search.shopping.naver.com\\/gate.nhn?id=82723717807\",\n",
      "\t\t\t\"image\":\"https:\\/\\/shopping-phinf.pstatic.net\\/main_8272371\\/82723717807.9.jpg\",\n",
      "\t\t\t\"lprice\":\"23900\",\n",
      "\t\t\t\"hprice\":\"\",\n",
      "\t\t\t\"mallName\":\"오케이농장\",\n",
      "\t\t\t\"productId\":\"82723717807\",\n",
      "\t\t\t\"productType\":\"2\",\n",
      "\t\t\t\"brand\":\"\",\n",
      "\t\t\t\"maker\":\"\",\n",
      "\t\t\t\"category1\":\"식품\",\n",
      "\t\t\t\"category2\":\"축산물\",\n",
      "\t\t\t\"category3\":\"돼지고기\",\n",
      "\t\t\t\"category4\":\"수입산돼지고기\"\n",
      "\t\t},\n",
      "\t\t{\n",
      "\t\t\t\"title\":\"통<b>삼겹살<\\/b> 통삼겹 바베큐 구이 보쌈 수육용 1kg\",\n",
      "\t\t\t\"link\":\"https:\\/\\/search.shopping.naver.com\\/gate.nhn?id=83591654217\",\n",
      "\t\t\t\"image\":\"https:\\/\\/shopping-phinf.pstatic.net\\/main_8359165\\/83591654217.1.jpg\",\n",
      "\t\t\t\"lprice\":\"11000\",\n",
      "\t\t\t\"hprice\":\"\",\n",
      "\t\t\t\"mallName\":\"고기먹기 좋은날\",\n",
      "\t\t\t\"productId\":\"83591654217\",\n",
      "\t\t\t\"productType\":\"2\",\n",
      "\t\t\t\"brand\":\"\",\n",
      "\t\t\t\"maker\":\"\",\n",
      "\t\t\t\"category1\":\"식품\",\n",
      "\t\t\t\"category2\":\"축산물\",\n",
      "\t\t\t\"category3\":\"돼지고기\",\n",
      "\t\t\t\"category4\":\"수입산돼지고기\"\n",
      "\t\t},\n",
      "\t\t{\n",
      "\t\t\t\"title\":\"고기파는여자 <b>삼겹살<\\/b> 수육 생<b>삼겹살<\\/b> 목살 통삼겹 대패<b>삼겹살<\\/b> 냉동<b>삼겹살<\\/b>\",\n",
      "\t\t\t\"link\":\"https:\\/\\/search.shopping.naver.com\\/gate.nhn?id=82796832618\",\n",
      "\t\t\t\"image\":\"https:\\/\\/shopping-phinf.pstatic.net\\/main_8279683\\/82796832618.1.jpg\",\n",
      "\t\t\t\"lprice\":\"12750\",\n",
      "\t\t\t\"hprice\":\"\",\n",
      "\t\t\t\"mallName\":\"고기파는여자\",\n",
      "\t\t\t\"productId\":\"82796832618\",\n",
      "\t\t\t\"productType\":\"2\",\n",
      "\t\t\t\"brand\":\"\",\n",
      "\t\t\t\"maker\":\"\",\n",
      "\t\t\t\"category1\":\"식품\",\n",
      "\t\t\t\"category2\":\"축산물\",\n",
      "\t\t\t\"category3\":\"돼지고기\",\n",
      "\t\t\t\"category4\":\"수입산돼지고기\"\n",
      "\t\t},\n",
      "\t\t{\n",
      "\t\t\t\"title\":\"<b>삼겹살<\\/b>2kg 항정살 등갈비 이베리코 오겹살 듀록 통삼겹 냉동 통오겹살\",\n",
      "\t\t\t\"link\":\"https:\\/\\/search.shopping.naver.com\\/gate.nhn?id=83600770944\",\n",
      "\t\t\t\"image\":\"https:\\/\\/shopping-phinf.pstatic.net\\/main_8360077\\/83600770944.2.jpg\",\n",
      "\t\t\t\"lprice\":\"23900\",\n",
      "\t\t\t\"hprice\":\"\",\n",
      "\t\t\t\"mallName\":\"다온미트\",\n",
      "\t\t\t\"productId\":\"83600770944\",\n",
      "\t\t\t\"productType\":\"2\",\n",
      "\t\t\t\"brand\":\"\",\n",
      "\t\t\t\"maker\":\"\",\n",
      "\t\t\t\"category1\":\"식품\",\n",
      "\t\t\t\"category2\":\"축산물\",\n",
      "\t\t\t\"category3\":\"돼지고기\",\n",
      "\t\t\t\"category4\":\"수입산돼지고기\"\n",
      "\t\t},\n",
      "\t\t{\n",
      "\t\t\t\"title\":\"<b>삼겹살<\\/b> 1kg 통오겹살 듀록 냉동 통삼겹 미박\",\n",
      "\t\t\t\"link\":\"https:\\/\\/search.shopping.naver.com\\/gate.nhn?id=82604880630\",\n",
      "\t\t\t\"image\":\"https:\\/\\/shopping-phinf.pstatic.net\\/main_8260488\\/82604880630.14.jpg\",\n",
      "\t\t\t\"lprice\":\"13200\",\n",
      "\t\t\t\"hprice\":\"\",\n",
      "\t\t\t\"mallName\":\"다온미트\",\n",
      "\t\t\t\"productId\":\"82604880630\",\n",
      "\t\t\t\"productType\":\"2\",\n",
      "\t\t\t\"brand\":\"\",\n",
      "\t\t\t\"maker\":\"\",\n",
      "\t\t\t\"category1\":\"식품\",\n",
      "\t\t\t\"category2\":\"축산물\",\n",
      "\t\t\t\"category3\":\"돼지고기\",\n",
      "\t\t\t\"category4\":\"수입산돼지고기\"\n",
      "\t\t},\n",
      "\t\t{\n",
      "\t\t\t\"title\":\"<b>삼겹살<\\/b> 목살 항정살 갈매기살 돼지고기\",\n",
      "\t\t\t\"link\":\"https:\\/\\/search.shopping.naver.com\\/gate.nhn?id=83932315928\",\n",
      "\t\t\t\"image\":\"https:\\/\\/shopping-phinf.pstatic.net\\/main_8393231\\/83932315928.jpg\",\n",
      "\t\t\t\"lprice\":\"3600\",\n",
      "\t\t\t\"hprice\":\"\",\n",
      "\t\t\t\"mallName\":\"미트아울렛\",\n",
      "\t\t\t\"productId\":\"83932315928\",\n",
      "\t\t\t\"productType\":\"2\",\n",
      "\t\t\t\"brand\":\"미트아울렛\",\n",
      "\t\t\t\"maker\":\"\",\n",
      "\t\t\t\"category1\":\"식품\",\n",
      "\t\t\t\"category2\":\"축산물\",\n",
      "\t\t\t\"category3\":\"돼지고기\",\n",
      "\t\t\t\"category4\":\"수입산돼지고기\"\n",
      "\t\t},\n",
      "\t\t{\n",
      "\t\t\t\"title\":\"청년고기 초벌 짚불 볏짚 통<b>삼겹살<\\/b> 목살 항정살 막창 캠핑고기 돼지고기 바베큐\",\n",
      "\t\t\t\"link\":\"https:\\/\\/search.shopping.naver.com\\/gate.nhn?id=83089703673\",\n",
      "\t\t\t\"image\":\"https:\\/\\/shopping-phinf.pstatic.net\\/main_8308970\\/83089703673.jpg\",\n",
      "\t\t\t\"lprice\":\"13900\",\n",
      "\t\t\t\"hprice\":\"\",\n",
      "\t\t\t\"mallName\":\"청년고기\",\n",
      "\t\t\t\"productId\":\"83089703673\",\n",
      "\t\t\t\"productType\":\"2\",\n",
      "\t\t\t\"brand\":\"\",\n",
      "\t\t\t\"maker\":\"\",\n",
      "\t\t\t\"category1\":\"식품\",\n",
      "\t\t\t\"category2\":\"축산물\",\n",
      "\t\t\t\"category3\":\"돼지고기\",\n",
      "\t\t\t\"category4\":\"수입산돼지고기\"\n",
      "\t\t},\n",
      "\t\t{\n",
      "\t\t\t\"title\":\"오스트리아산 <b>삼겹살<\\/b> 1kg(±500g씩포장)\",\n",
      "\t\t\t\"link\":\"https:\\/\\/search.shopping.naver.com\\/gate.nhn?id=81380463018\",\n",
      "\t\t\t\"image\":\"https:\\/\\/shopping-phinf.pstatic.net\\/main_8138046\\/81380463018.2.jpg\",\n",
      "\t\t\t\"lprice\":\"11900\",\n",
      "\t\t\t\"hprice\":\"\",\n",
      "\t\t\t\"mallName\":\"윈미트\",\n",
      "\t\t\t\"productId\":\"81380463018\",\n",
      "\t\t\t\"productType\":\"2\",\n",
      "\t\t\t\"brand\":\"\",\n",
      "\t\t\t\"maker\":\"\",\n",
      "\t\t\t\"category1\":\"식품\",\n",
      "\t\t\t\"category2\":\"축산물\",\n",
      "\t\t\t\"category3\":\"돼지고기\",\n",
      "\t\t\t\"category4\":\"수입산돼지고기\"\n",
      "\t\t}\n",
      "\t]\n",
      "}\n"
     ]
    }
   ],
   "source": [
    "# 네이버 검색 API 예제 - 블로그 검색\n",
    "import os\n",
    "import sys\n",
    "import urllib.request\n",
    "client_id = \"ajPeLsTsgXTaqSjnHCqV\"\n",
    "client_secret = \"m4Bq7BlW37\"\n",
    "encText = urllib.parse.quote(\"삼겹살\")\n",
    "url = \"https://openapi.naver.com/v1/search/shop?query=\" + encText # JSON 결과\n",
    "# url = \"https://openapi.naver.com/v1/search/blog.xml?query=\" + encText # XML 결과\n",
    "request = urllib.request.Request(url)\n",
    "request.add_header(\"X-Naver-Client-Id\",client_id)\n",
    "request.add_header(\"X-Naver-Client-Secret\",client_secret)\n",
    "response = urllib.request.urlopen(request)\n",
    "rescode = response.getcode()\n",
    "if(rescode==200):\n",
    "    response_body = response.read()\n",
    "    print(response_body.decode('utf-8'))\n",
    "else:\n",
    "    print(\"Error Code:\" + rescode)"
   ]
  },
  {
   "cell_type": "code",
   "execution_count": 9,
   "id": "6b30f43d",
   "metadata": {},
   "outputs": [
    {
     "data": {
      "text/plain": [
       "(<http.client.HTTPResponse at 0x20bf5b4e280>, 200, 200, 200)"
      ]
     },
     "execution_count": 9,
     "metadata": {},
     "output_type": "execute_result"
    }
   ],
   "source": [
    "response, response.getcode(), response.code, response.status"
   ]
  },
  {
   "cell_type": "markdown",
   "id": "ad8b85f5",
   "metadata": {},
   "source": [
    "#### 1. gen_search_url()\n",
    "- 검색해야할 URL 만들기"
   ]
  },
  {
   "cell_type": "code",
   "execution_count": 16,
   "id": "391573fe",
   "metadata": {},
   "outputs": [],
   "source": [
    "def gen_search_url(api_node, search_text, start_num, disp_num):\n",
    "    base = \"https://openapi.naver.com/v1/search\"\n",
    "    node = \"/\" + api_node + \".json\"\n",
    "    param_query = \"?query=\" + urllib.parse.quote(search_text)\n",
    "    param_target = \"&start=\" + str(start_num)\n",
    "    param_disp = \"&display=\" + str(disp_num)\n",
    "    \n",
    "    return base + node + param_query + param_target + param_disp"
   ]
  },
  {
   "cell_type": "code",
   "execution_count": 17,
   "id": "f1386b9b",
   "metadata": {},
   "outputs": [
    {
     "data": {
      "text/plain": [
       "'https://openapi.naver.com/v1/search/shop.json?query=%EB%A7%A5%EB%B6%81&start=1&display=3'"
      ]
     },
     "execution_count": 17,
     "metadata": {},
     "output_type": "execute_result"
    }
   ],
   "source": [
    "gen_search_url(\"shop\", \"맥북\", 1, 3)"
   ]
  },
  {
   "cell_type": "markdown",
   "id": "ba98a5fb",
   "metadata": {},
   "source": [
    "#### 2 get_result_onepage()"
   ]
  },
  {
   "cell_type": "code",
   "execution_count": 23,
   "id": "4e66db30",
   "metadata": {},
   "outputs": [],
   "source": [
    "import json\n",
    "import datetime\n",
    "\n",
    "def get_result_onepage(url):\n",
    "    request = urllib.request.Request(url)\n",
    "    request.add_header(\"X-Naver-Client-Id\", client_id)\n",
    "    request.add_header(\"X-Naver-Client-Secret\", client_secret)\n",
    "    response = urllib.request.urlopen(request)\n",
    "    print(\"[%s] Url Request Success\" % datetime.datetime.now())\n",
    "    return json.loads(response.read().decode(\"utf-8\"))"
   ]
  },
  {
   "cell_type": "code",
   "execution_count": 24,
   "id": "762137e2",
   "metadata": {},
   "outputs": [
    {
     "name": "stdout",
     "output_type": "stream",
     "text": [
      "[2022-09-30 11:29:41.786518] Url Request Success\n"
     ]
    },
    {
     "data": {
      "text/plain": [
       "{'lastBuildDate': 'Fri, 30 Sep 2022 11:28:41 +0900',\n",
       " 'total': 1137331,\n",
       " 'start': 1,\n",
       " 'display': 5,\n",
       " 'items': [{'title': 'Apple <b>맥북</b> 에어 2020년형 M1 256G 스페이스 그레이 (MGN63KH/A)',\n",
       "   'link': 'https://search.shopping.naver.com/gate.nhn?id=26101847522',\n",
       "   'image': 'https://shopping-phinf.pstatic.net/main_2610184/26101847522.20220705135838.jpg',\n",
       "   'lprice': '1264410',\n",
       "   'hprice': '',\n",
       "   'mallName': '네이버',\n",
       "   'productId': '26101847522',\n",
       "   'productType': '1',\n",
       "   'brand': 'Apple',\n",
       "   'maker': 'Apple',\n",
       "   'category1': '디지털/가전',\n",
       "   'category2': '노트북',\n",
       "   'category3': '',\n",
       "   'category4': ''},\n",
       "  {'title': 'Apple <b>맥북</b> 에어 2022년 M2 8코어 CPU 및 8코어 GPU 256G 미드나이트 (MLY33KH/A)',\n",
       "   'link': 'https://search.shopping.naver.com/gate.nhn?id=33092527619',\n",
       "   'image': 'https://shopping-phinf.pstatic.net/main_3309252/33092527619.20220705135254.jpg',\n",
       "   'lprice': '1527950',\n",
       "   'hprice': '',\n",
       "   'mallName': '네이버',\n",
       "   'productId': '33092527619',\n",
       "   'productType': '1',\n",
       "   'brand': 'Apple',\n",
       "   'maker': 'Apple',\n",
       "   'category1': '디지털/가전',\n",
       "   'category2': '노트북',\n",
       "   'category3': '',\n",
       "   'category4': ''},\n",
       "  {'title': 'Apple <b>맥북</b> 프로 16형 2021년 M1 Pro 10코어 CPU 및 16코어 GPU 512G 스페이스 그레이 (MK183KH/A)',\n",
       "   'link': 'https://search.shopping.naver.com/gate.nhn?id=29413184619',\n",
       "   'image': 'https://shopping-phinf.pstatic.net/main_2941318/29413184619.20220705152113.jpg',\n",
       "   'lprice': '2831750',\n",
       "   'hprice': '',\n",
       "   'mallName': '네이버',\n",
       "   'productId': '29413184619',\n",
       "   'productType': '1',\n",
       "   'brand': 'Apple',\n",
       "   'maker': 'Apple',\n",
       "   'category1': '디지털/가전',\n",
       "   'category2': '노트북',\n",
       "   'category3': '',\n",
       "   'category4': ''},\n",
       "  {'title': 'Apple <b>맥북</b> 프로 14형 2021년 M1 Pro 8코어 CPU 및 14코어 GPU 512G 스페이스 그레이 (MKGP3KH/A)',\n",
       "   'link': 'https://search.shopping.naver.com/gate.nhn?id=29412775622',\n",
       "   'image': 'https://shopping-phinf.pstatic.net/main_2941277/29412775622.20220705151945.jpg',\n",
       "   'lprice': '2458000',\n",
       "   'hprice': '',\n",
       "   'mallName': '네이버',\n",
       "   'productId': '29412775622',\n",
       "   'productType': '1',\n",
       "   'brand': 'Apple',\n",
       "   'maker': 'Apple',\n",
       "   'category1': '디지털/가전',\n",
       "   'category2': '노트북',\n",
       "   'category3': '',\n",
       "   'category4': ''},\n",
       "  {'title': 'Apple <b>맥북</b> 에어 2020년형 M1 256G 실버 (MGN93KH/A)',\n",
       "   'link': 'https://search.shopping.naver.com/gate.nhn?id=25039820524',\n",
       "   'image': 'https://shopping-phinf.pstatic.net/main_2503982/25039820524.20220705135902.jpg',\n",
       "   'lprice': '1269000',\n",
       "   'hprice': '',\n",
       "   'mallName': '네이버',\n",
       "   'productId': '25039820524',\n",
       "   'productType': '1',\n",
       "   'brand': 'Apple',\n",
       "   'maker': 'Apple',\n",
       "   'category1': '디지털/가전',\n",
       "   'category2': '노트북',\n",
       "   'category3': '',\n",
       "   'category4': ''}]}"
      ]
     },
     "execution_count": 24,
     "metadata": {},
     "output_type": "execute_result"
    }
   ],
   "source": [
    "url = gen_search_url(\"shop\", \"맥북\", 1, 5)\n",
    "one_result = get_result_onepage(url)\n",
    "one_result"
   ]
  },
  {
   "cell_type": "code",
   "execution_count": 28,
   "id": "5ac0e18d",
   "metadata": {},
   "outputs": [
    {
     "data": {
      "text/plain": [
       "'Apple <b>맥북</b> 에어 2020년형 M1 256G 스페이스 그레이 (MGN63KH/A)'"
      ]
     },
     "execution_count": 28,
     "metadata": {},
     "output_type": "execute_result"
    }
   ],
   "source": [
    "one_result[\"items\"][0][\"title\"]"
   ]
  },
  {
   "cell_type": "code",
   "execution_count": 33,
   "id": "5d6bced3",
   "metadata": {},
   "outputs": [
    {
     "data": {
      "text/plain": [
       "'1264410'"
      ]
     },
     "execution_count": 33,
     "metadata": {},
     "output_type": "execute_result"
    }
   ],
   "source": [
    "one_result[\"items\"][0][\"lprice\"]"
   ]
  },
  {
   "cell_type": "code",
   "execution_count": 34,
   "id": "fd0d3eb0",
   "metadata": {},
   "outputs": [
    {
     "data": {
      "text/plain": [
       "'https://search.shopping.naver.com/gate.nhn?id=26101847522'"
      ]
     },
     "execution_count": 34,
     "metadata": {},
     "output_type": "execute_result"
    }
   ],
   "source": [
    "one_result[\"items\"][0][\"link\"]"
   ]
  },
  {
   "cell_type": "code",
   "execution_count": 35,
   "id": "ab0fafd1",
   "metadata": {},
   "outputs": [
    {
     "data": {
      "text/plain": [
       "'네이버'"
      ]
     },
     "execution_count": 35,
     "metadata": {},
     "output_type": "execute_result"
    }
   ],
   "source": [
    "one_result[\"items\"][0][\"mallName\"]"
   ]
  },
  {
   "cell_type": "markdown",
   "id": "13add96d",
   "metadata": {},
   "source": [
    "#### 3. get_fields()"
   ]
  },
  {
   "cell_type": "code",
   "execution_count": 38,
   "id": "54092762",
   "metadata": {},
   "outputs": [
    {
     "data": {
      "text/plain": [
       "'Apple 맥북 에어 2020년형 M1 256G 스페이스 그레이 (MGN63KH/A)'"
      ]
     },
     "execution_count": 38,
     "metadata": {},
     "output_type": "execute_result"
    }
   ],
   "source": [
    "one_result[\"items\"][0][\"title\"].replace(\"<b>\", \"\").replace(\"</b>\", \"\")"
   ]
  },
  {
   "cell_type": "code",
   "execution_count": 40,
   "id": "9b63a110",
   "metadata": {},
   "outputs": [],
   "source": [
    "def delete_tag(input_str):\n",
    "    input_str = input_str.replace(\"<b>\", \"\")\n",
    "    input_str = input_str.replace(\"</b>\", \"\")\n",
    "    return input_str"
   ]
  },
  {
   "cell_type": "code",
   "execution_count": 41,
   "id": "bb4a3101",
   "metadata": {},
   "outputs": [],
   "source": [
    "import pandas as pd"
   ]
  },
  {
   "cell_type": "code",
   "execution_count": 45,
   "id": "e6e777af",
   "metadata": {},
   "outputs": [],
   "source": [
    "def get_fields(json_data):\n",
    "    title = [delete_tag(each[\"title\"]) for each in json_data[\"items\"]]\n",
    "    link = [each[\"link\"] for each in json_data[\"items\"]]\n",
    "    lprice = [each[\"lprice\"] for each in json_data[\"items\"]]\n",
    "    mall_name = [each[\"mallName\"] for each in json_data[\"items\"]]\n",
    "\n",
    "    result = pd.DataFrame({\n",
    "        \"title\" : title,\n",
    "        \"link\" : link,\n",
    "        \"lprice\" : lprice,\n",
    "        \"mall\" : mall_name\n",
    "    }, columns=[\"title\", \"lprice\", \"link\", \"mall\"])\n",
    "    return result"
   ]
  },
  {
   "cell_type": "code",
   "execution_count": 46,
   "id": "0d2afdac",
   "metadata": {},
   "outputs": [
    {
     "data": {
      "text/html": [
       "<div>\n",
       "<style scoped>\n",
       "    .dataframe tbody tr th:only-of-type {\n",
       "        vertical-align: middle;\n",
       "    }\n",
       "\n",
       "    .dataframe tbody tr th {\n",
       "        vertical-align: top;\n",
       "    }\n",
       "\n",
       "    .dataframe thead th {\n",
       "        text-align: right;\n",
       "    }\n",
       "</style>\n",
       "<table border=\"1\" class=\"dataframe\">\n",
       "  <thead>\n",
       "    <tr style=\"text-align: right;\">\n",
       "      <th></th>\n",
       "      <th>title</th>\n",
       "      <th>lprice</th>\n",
       "      <th>link</th>\n",
       "      <th>mall</th>\n",
       "    </tr>\n",
       "  </thead>\n",
       "  <tbody>\n",
       "    <tr>\n",
       "      <th>0</th>\n",
       "      <td>Apple 맥북 에어 2020년형 M1 256G 스페이스 그레이 (MGN63KH/A)</td>\n",
       "      <td>1264410</td>\n",
       "      <td>https://search.shopping.naver.com/gate.nhn?id=...</td>\n",
       "      <td>네이버</td>\n",
       "    </tr>\n",
       "    <tr>\n",
       "      <th>1</th>\n",
       "      <td>Apple 맥북 에어 2022년 M2 8코어 CPU 및 8코어 GPU 256G 미드...</td>\n",
       "      <td>1527950</td>\n",
       "      <td>https://search.shopping.naver.com/gate.nhn?id=...</td>\n",
       "      <td>네이버</td>\n",
       "    </tr>\n",
       "    <tr>\n",
       "      <th>2</th>\n",
       "      <td>Apple 맥북 프로 16형 2021년 M1 Pro 10코어 CPU 및 16코어 G...</td>\n",
       "      <td>2831750</td>\n",
       "      <td>https://search.shopping.naver.com/gate.nhn?id=...</td>\n",
       "      <td>네이버</td>\n",
       "    </tr>\n",
       "    <tr>\n",
       "      <th>3</th>\n",
       "      <td>Apple 맥북 프로 14형 2021년 M1 Pro 8코어 CPU 및 14코어 GP...</td>\n",
       "      <td>2458000</td>\n",
       "      <td>https://search.shopping.naver.com/gate.nhn?id=...</td>\n",
       "      <td>네이버</td>\n",
       "    </tr>\n",
       "    <tr>\n",
       "      <th>4</th>\n",
       "      <td>Apple 맥북 에어 2020년형 M1 256G 실버 (MGN93KH/A)</td>\n",
       "      <td>1269000</td>\n",
       "      <td>https://search.shopping.naver.com/gate.nhn?id=...</td>\n",
       "      <td>네이버</td>\n",
       "    </tr>\n",
       "  </tbody>\n",
       "</table>\n",
       "</div>"
      ],
      "text/plain": [
       "                                               title   lprice  \\\n",
       "0    Apple 맥북 에어 2020년형 M1 256G 스페이스 그레이 (MGN63KH/A)  1264410   \n",
       "1  Apple 맥북 에어 2022년 M2 8코어 CPU 및 8코어 GPU 256G 미드...  1527950   \n",
       "2  Apple 맥북 프로 16형 2021년 M1 Pro 10코어 CPU 및 16코어 G...  2831750   \n",
       "3  Apple 맥북 프로 14형 2021년 M1 Pro 8코어 CPU 및 14코어 GP...  2458000   \n",
       "4          Apple 맥북 에어 2020년형 M1 256G 실버 (MGN93KH/A)  1269000   \n",
       "\n",
       "                                                link mall  \n",
       "0  https://search.shopping.naver.com/gate.nhn?id=...  네이버  \n",
       "1  https://search.shopping.naver.com/gate.nhn?id=...  네이버  \n",
       "2  https://search.shopping.naver.com/gate.nhn?id=...  네이버  \n",
       "3  https://search.shopping.naver.com/gate.nhn?id=...  네이버  \n",
       "4  https://search.shopping.naver.com/gate.nhn?id=...  네이버  "
      ]
     },
     "execution_count": 46,
     "metadata": {},
     "output_type": "execute_result"
    }
   ],
   "source": [
    "get_fields(one_result)"
   ]
  },
  {
   "cell_type": "markdown",
   "id": "cc42cf15",
   "metadata": {},
   "source": [
    "#### 5. actMain()"
   ]
  },
  {
   "cell_type": "code",
   "execution_count": 47,
   "id": "cb2a3ec9",
   "metadata": {},
   "outputs": [
    {
     "name": "stdout",
     "output_type": "stream",
     "text": [
      "1\n",
      "101\n",
      "201\n",
      "301\n",
      "401\n",
      "501\n",
      "601\n",
      "701\n",
      "801\n",
      "901\n"
     ]
    }
   ],
   "source": [
    "for n in range(1, 1000, 100):\n",
    "    print(n)"
   ]
  },
  {
   "cell_type": "code",
   "execution_count": 49,
   "id": "8aa92b93",
   "metadata": {},
   "outputs": [
    {
     "name": "stdout",
     "output_type": "stream",
     "text": [
      "[2022-09-30 11:55:12.434483] Url Request Success\n",
      "[2022-09-30 11:55:12.706928] Url Request Success\n",
      "[2022-09-30 11:55:12.962969] Url Request Success\n",
      "[2022-09-30 11:55:13.252157] Url Request Success\n",
      "[2022-09-30 11:55:13.585378] Url Request Success\n",
      "[2022-09-30 11:55:13.872960] Url Request Success\n",
      "[2022-09-30 11:55:14.136817] Url Request Success\n",
      "[2022-09-30 11:55:14.416504] Url Request Success\n",
      "[2022-09-30 11:55:14.707090] Url Request Success\n",
      "[2022-09-30 11:55:15.017768] Url Request Success\n"
     ]
    },
    {
     "data": {
      "text/plain": [
       "[                                    title lprice  \\\n",
       " 0                             농심 신라면 120g    600   \n",
       " 1                         농심 라면왕 김통깨 100g    950   \n",
       " 2                    농심 라면왕 김통깨 100g X 8봉  10900   \n",
       " 3                            농심 안성탕면 125g    520   \n",
       " 4                           농심 멸치 칼국수 98g    590   \n",
       " ..                                    ...    ...   \n",
       " 95                         농심 멸치칼국수 (5개입)   4500   \n",
       " 96     신라면 너구리 짜파게티 진라면 안성탕면 삼양라면 육개장 사발면  17900   \n",
       " 97                       안성탕면 봉지라면 20개 박스  15450   \n",
       " 98  농심 너구리 120g x 20봉 30봉 40봉 얼큰한 매운 순한 맛  18900   \n",
       " 99                     농심 육개장 사발면 86gX24입  17080   \n",
       " \n",
       "                                                  link    mall  \n",
       " 0   https://search.shopping.naver.com/gate.nhn?id=...     네이버  \n",
       " 1   https://search.shopping.naver.com/gate.nhn?id=...     네이버  \n",
       " 2   https://search.shopping.naver.com/gate.nhn?id=...   농심공식몰  \n",
       " 3   https://search.shopping.naver.com/gate.nhn?id=...     네이버  \n",
       " 4   https://search.shopping.naver.com/gate.nhn?id=...     네이버  \n",
       " ..                                                ...     ...  \n",
       " 95  https://search.shopping.naver.com/gate.nhn?id=...    롯데마트  \n",
       " 96  https://search.shopping.naver.com/gate.nhn?id=...   스마일세일  \n",
       " 97  https://search.shopping.naver.com/gate.nhn?id=...  내손에 마켓  \n",
       " 98  https://search.shopping.naver.com/gate.nhn?id=...   미라클세일  \n",
       " 99  https://search.shopping.naver.com/gate.nhn?id=...   트레이더스  \n",
       " \n",
       " [100 rows x 4 columns],\n",
       "                                           title lprice  \\\n",
       " 0                                  농심 신라면 건면 5입   4780   \n",
       " 1                            농심 사리곰탕면 20봉지/40봉지  17900   \n",
       " 2                             농심 앵그리 짜파구리 (4개입)   3000   \n",
       " 3                               농심 너구리 순한맛  40개  31900   \n",
       " 4                                농심 짜왕 매운맛 140g  40250   \n",
       " ..                                          ...    ...   \n",
       " 95                          농심 너구리 120g 40개 한박스  31990   \n",
       " 96                          사리곰탕면 사리곰탕면 멀티팩 5개입   5400   \n",
       " 97  농심 라면 배홍동 비빔면 짜파게티 카구리 무파마 안성탕면 너구리 신라면 멀티팩   2990   \n",
       " 98                               농심 후루룩국수 (4개입)   3880   \n",
       " 99                 농심 너구리 얼큰한맛 40개입 라면/너구리/봉지리면  33220   \n",
       " \n",
       "                                                  link       mall  \n",
       " 0   https://search.shopping.naver.com/gate.nhn?id=...       이마트몰  \n",
       " 1   https://search.shopping.naver.com/gate.nhn?id=...        라면킹  \n",
       " 2   https://search.shopping.naver.com/gate.nhn?id=...       11번가  \n",
       " 3   https://search.shopping.naver.com/gate.nhn?id=...         쿠팡  \n",
       " 4   https://search.shopping.naver.com/gate.nhn?id=...        네이버  \n",
       " ..                                                ...        ...  \n",
       " 95  https://search.shopping.naver.com/gate.nhn?id=...       펀희쇼핑  \n",
       " 96  https://search.shopping.naver.com/gate.nhn?id=...         옥션  \n",
       " 97  https://search.shopping.naver.com/gate.nhn?id=...  푸드앤리더스기프트  \n",
       " 98  https://search.shopping.naver.com/gate.nhn?id=...       롯데ON  \n",
       " 99  https://search.shopping.naver.com/gate.nhn?id=...        G마켓  \n",
       " \n",
       " [100 rows x 4 columns],\n",
       "                                                 title lprice  \\\n",
       " 0                                농심 사리면 110g x 40봉 무배  12900   \n",
       " 1                            농심 신라면+안성탕면+너구리+짜파게티 20봉  19500   \n",
       " 2   자야 무파마 팔도 비빔면 농심 김치 신라면 건면 짜장 진라면 오동통면 사리곰탕면 짜짜로니    200   \n",
       " 3                             농심 신라면 블랙 멀티팩 134g  8개입  13140   \n",
       " 4        농심 신라면 봉지 120g (일본판) / 신라면 김치 컵라면 68g (일본버전)   2080   \n",
       " ..                                                ...    ...   \n",
       " 95                        농심 너구리 봉지 라면 20개 얼큰한 매운맛 박스  17770   \n",
       " 96               농심 신라면 + 짜파게티 + 배홍동 비빔면 2p 기획세트  1세트  19400   \n",
       " 97                              농심 튀김우동면 118gx4개입 멀티팩   6140   \n",
       " 98                                  농심 무파마탕면 32봉지 1박스  37900   \n",
       " 99                             농심 올리브 짜파게티 140g x 10봉  12000   \n",
       " \n",
       "                                                  link   mall  \n",
       " 0   https://search.shopping.naver.com/gate.nhn?id=...    G마켓  \n",
       " 1   https://search.shopping.naver.com/gate.nhn?id=...     옥션  \n",
       " 2   https://search.shopping.naver.com/gate.nhn?id=...   존맛천국  \n",
       " 3   https://search.shopping.naver.com/gate.nhn?id=...     쿠팡  \n",
       " 4   https://search.shopping.naver.com/gate.nhn?id=...   삼촌 몰  \n",
       " ..                                                ...    ...  \n",
       " 95  https://search.shopping.naver.com/gate.nhn?id=...   플라이루  \n",
       " 96  https://search.shopping.naver.com/gate.nhn?id=...     쿠팡  \n",
       " 97  https://search.shopping.naver.com/gate.nhn?id=...    G마켓  \n",
       " 98  https://search.shopping.naver.com/gate.nhn?id=...    신선앤  \n",
       " 99  https://search.shopping.naver.com/gate.nhn?id=...  농심공식몰  \n",
       " \n",
       " [100 rows x 4 columns],\n",
       "                                  title  lprice  \\\n",
       " 0   봉지)농심짜파게티 10개 + 봉지)농심신라면 10개  20개입   13950   \n",
       " 1    농심 - 신라면 누들수프 20정 (20 x 120g) 1카톤  120600   \n",
       " 2                      농심 볶음 너구리 (4개입)    5300   \n",
       " 3                  농심 사리면 110g 40봉 한박스   11400   \n",
       " 4                        [농심] 짜왕 건면 4입    6380   \n",
       " ..                                 ...     ...   \n",
       " 95                  농심 안성탕면 멀티팩 20개 4팩   17200   \n",
       " 96             농심 짜파게티 10봉 + 오징어짬뽕 10봉   24000   \n",
       " 97                   짜파게티 올리브 140g 40개   34700   \n",
       " 98                       농심 신라면 건면 40봉   32530   \n",
       " 99                     농심 사리면 110g 40개   11400   \n",
       " \n",
       "                                                  link      mall  \n",
       " 0   https://search.shopping.naver.com/gate.nhn?id=...        쿠팡  \n",
       " 1   https://search.shopping.naver.com/gate.nhn?id=...        쿠팡  \n",
       " 2   https://search.shopping.naver.com/gate.nhn?id=...      롯데마트  \n",
       " 3   https://search.shopping.naver.com/gate.nhn?id=...      롯데ON  \n",
       " 4   https://search.shopping.naver.com/gate.nhn?id=...      마켓컬리  \n",
       " ..                                                ...       ...  \n",
       " 95  https://search.shopping.naver.com/gate.nhn?id=...      청화마트  \n",
       " 96  https://search.shopping.naver.com/gate.nhn?id=...     농심공식몰  \n",
       " 97  https://search.shopping.naver.com/gate.nhn?id=...  라이프해킹하우스  \n",
       " 98  https://search.shopping.naver.com/gate.nhn?id=...       G마켓  \n",
       " 99  https://search.shopping.naver.com/gate.nhn?id=...      롯데ON  \n",
       " \n",
       " [100 rows x 4 columns],\n",
       "                                  title lprice  \\\n",
       " 0          찰비빔면 농심 찰비빔면 4입멀티 5봉 (총20개)  18250   \n",
       " 1                      농심 농심 신라면 x 20봉  18900   \n",
       " 2                    농심 후루룩 국수 4p  4개입   6990   \n",
       " 3                       [농심] 짜파게티 × 5봉   4990   \n",
       " 4   농심 신라면10 + 너구리10 + 안성탕면10 + 짜파게티10  30020   \n",
       " ..                                 ...    ...   \n",
       " 95  농심 신라면10 + 너구리10 + 안성탕면10 + 짜파게티10  30010   \n",
       " 96       신라면 무료배송  농심 신라면 30봉 /신라면 한박스  24000   \n",
       " 97                   농심 농심 사천 짜파게티 20입  24420   \n",
       " 98             농심 (현대Hmall)해물 안성탕면 40봉  28980   \n",
       " 99      농심 삼양 오뚜기 진짬뽕 신라면 삼양라면 왕뚜껑 컵라면  15780   \n",
       " \n",
       "                                                  link    mall  \n",
       " 0   https://search.shopping.naver.com/gate.nhn?id=...      옥션  \n",
       " 1   https://search.shopping.naver.com/gate.nhn?id=...     G마켓  \n",
       " 2   https://search.shopping.naver.com/gate.nhn?id=...      쿠팡  \n",
       " 3   https://search.shopping.naver.com/gate.nhn?id=...  GSSHOP  \n",
       " 4   https://search.shopping.naver.com/gate.nhn?id=...      옥션  \n",
       " ..                                                ...     ...  \n",
       " 95  https://search.shopping.naver.com/gate.nhn?id=...     G마켓  \n",
       " 96  https://search.shopping.naver.com/gate.nhn?id=...      옥션  \n",
       " 97  https://search.shopping.naver.com/gate.nhn?id=...     G마켓  \n",
       " 98  https://search.shopping.naver.com/gate.nhn?id=...      옥션  \n",
       " 99  https://search.shopping.naver.com/gate.nhn?id=...    11번가  \n",
       " \n",
       " [100 rows x 4 columns],\n",
       "                                              title lprice  \\\n",
       " 0                              농심 신라면 120g 40봉 1박스  31310   \n",
       " 1          농심 사천백짬뽕 94g x 12 코스트코  94g x 12봉지  12개  18940   \n",
       " 2                                농심 신라면 건면 97g  5개   4750   \n",
       " 3                          농심 올리브 짜파게티 140g x  20입  19620   \n",
       " 4   배홍동비빔면 둥지냉면 신라면 메밀소바 멸치칼국수 카구리면 짜파게티 너구리라면 멀티팩   2990   \n",
       " ..                                             ...    ...   \n",
       " 95                                    농심 사천짜파게티 4입   4540   \n",
       " 96                       농심 카구리면125g 4봉 X 4개(총16개)  17900   \n",
       " 97                              농심 사천백짬뽕  94g  20개  27740   \n",
       " 98         [농심] [농심] 신라면 + 짜파게티 + 안성탕면 + 너구리 총 20봉  19500   \n",
       " 99                농심 신라면 10봉 + 안성탕면 10봉 + 짜파게티 10봉  31400   \n",
       " \n",
       "                                                  link           mall  \n",
       " 0   https://search.shopping.naver.com/gate.nhn?id=...             옥션  \n",
       " 1   https://search.shopping.naver.com/gate.nhn?id=...             쿠팡  \n",
       " 2   https://search.shopping.naver.com/gate.nhn?id=...             쿠팡  \n",
       " 3   https://search.shopping.naver.com/gate.nhn?id=...           롯데ON  \n",
       " 4   https://search.shopping.naver.com/gate.nhn?id=...  햇반 컵밥 라면 국탕 죽  \n",
       " ..                                                ...            ...  \n",
       " 95  https://search.shopping.naver.com/gate.nhn?id=...           11번가  \n",
       " 96  https://search.shopping.naver.com/gate.nhn?id=...             옥션  \n",
       " 97  https://search.shopping.naver.com/gate.nhn?id=...             쿠팡  \n",
       " 98  https://search.shopping.naver.com/gate.nhn?id=...          롯데홈쇼핑  \n",
       " 99  https://search.shopping.naver.com/gate.nhn?id=...          농심공식몰  \n",
       " \n",
       " [100 rows x 4 columns],\n",
       "                                   title lprice  \\\n",
       " 0              농심 농심 안성탕면 라면 5개 라면 봉지라면   3270   \n",
       " 1              농심 농심 생생우동 253g x20개입 무배  37560   \n",
       " 2                         농심 사리곰탕면 110g    770   \n",
       " 3                      농심 김치사발면 86gX24입  17080   \n",
       " 4       농심 짜파게티 140g x 20봉 30봉 40봉 짜장라면  20500   \n",
       " ..                                  ...    ...   \n",
       " 95           농심 짜파게티 무파마 오징어짬뽕 봉지 라면 새참   4000   \n",
       " 96                 농심 -농심 안성탕면 40봉 1BOX  27650   \n",
       " 97  봉지)농심너구리얼큰한맛 5개 + 봉지)농심짜파게티 5개  10개   7680   \n",
       " 98                   농심 신라면 건면 97g  10개  10670   \n",
       " 99     농심 농심 사리곰탕면 40봉 곰탕 설렁탕 봉지 박스 순한맛  36890   \n",
       " \n",
       "                                                  link   mall  \n",
       " 0   https://search.shopping.naver.com/gate.nhn?id=...     옥션  \n",
       " 1   https://search.shopping.naver.com/gate.nhn?id=...    G마켓  \n",
       " 2   https://search.shopping.naver.com/gate.nhn?id=...   L스토어  \n",
       " 3   https://search.shopping.naver.com/gate.nhn?id=...  트레이더스  \n",
       " 4   https://search.shopping.naver.com/gate.nhn?id=...  언니가쏜다  \n",
       " ..                                                ...    ...  \n",
       " 95  https://search.shopping.naver.com/gate.nhn?id=...     새참  \n",
       " 96  https://search.shopping.naver.com/gate.nhn?id=...    G마켓  \n",
       " 97  https://search.shopping.naver.com/gate.nhn?id=...     쿠팡  \n",
       " 98  https://search.shopping.naver.com/gate.nhn?id=...     쿠팡  \n",
       " 99  https://search.shopping.naver.com/gate.nhn?id=...    G마켓  \n",
       " \n",
       " [100 rows x 4 columns],\n",
       "                               title lprice  \\\n",
       " 0   농심 사리곰탕면 10개 + 농심 짜파게티 10개  1세트  22070   \n",
       " 1    농심 샐러드누들 오리엔탈 드레싱소스 128g x 16봉  25900   \n",
       " 2             농심 신라면블랙 NEW 134g 16봉  25970   \n",
       " 3          농심 농심 생생우동 253g x20개입 무배  36570   \n",
       " 4          신라면+짜파+안성탕면+너구리 5봉씩총 20봉  19400   \n",
       " ..                              ...    ...   \n",
       " 95           농심 농심 가락 냉동짜장면(250gx5)   5230   \n",
       " 96            너구리 농심 너구리 얼큰한맛 x 20봉  21500   \n",
       " 97          농심 (현대Hmall)해물 안성탕면 40봉  28980   \n",
       " 98                [농심] 너구리 얼큰한맛 40봉  46970   \n",
       " 99                농심 [농심] 오징어짬뽕 30봉  28570   \n",
       " \n",
       "                                                  link   mall  \n",
       " 0   https://search.shopping.naver.com/gate.nhn?id=...     쿠팡  \n",
       " 1   https://search.shopping.naver.com/gate.nhn?id=...  농심공식몰  \n",
       " 2   https://search.shopping.naver.com/gate.nhn?id=...  한빛유통몰  \n",
       " 3   https://search.shopping.naver.com/gate.nhn?id=...     옥션  \n",
       " 4   https://search.shopping.naver.com/gate.nhn?id=...  NS홈쇼핑  \n",
       " ..                                                ...    ...  \n",
       " 95  https://search.shopping.naver.com/gate.nhn?id=...     옥션  \n",
       " 96  https://search.shopping.naver.com/gate.nhn?id=...     옥션  \n",
       " 97  https://search.shopping.naver.com/gate.nhn?id=...    G마켓  \n",
       " 98  https://search.shopping.naver.com/gate.nhn?id=...   홈앤쇼핑  \n",
       " 99  https://search.shopping.naver.com/gate.nhn?id=...    G마켓  \n",
       " \n",
       " [100 rows x 4 columns],\n",
       "                                 title lprice  \\\n",
       " 0                     농심 맛짬뽕 130g 10봉  27100   \n",
       " 1            [무료배송]농심 짜파게티5봉+얼큰한너구리5봉  11070   \n",
       " 2         농심 갤러리아 농심농심라면 너구리 120gx20봉  25480   \n",
       " 3         농심 안성탕면 10개 + 삼양라면 10개  1세트  10290   \n",
       " 4   농심 농심 멸치칼국수 98g 40봉 한박스/라면/컵라면/간식  41160   \n",
       " ..                                ...    ...   \n",
       " 95      [본사발주] 농심 - 신라면 봉지 120g x 20개  13980   \n",
       " 96         농심감자면 농심 감자면 5개입 멀티팩(585g)   6420   \n",
       " 97                     농심 라면왕 김통깨 32입  36950   \n",
       " 98      라면/컵라면/짜파게티,너구리,안성탕면,신라면 40개입  31070   \n",
       " 99              농심 카구리면125g 4봉 8팩(박스)  37900   \n",
       " \n",
       "                                                  link      mall  \n",
       " 0   https://search.shopping.naver.com/gate.nhn?id=...  식자재마트도매왕  \n",
       " 1   https://search.shopping.naver.com/gate.nhn?id=...      인터파크  \n",
       " 2   https://search.shopping.naver.com/gate.nhn?id=...       G마켓  \n",
       " 3   https://search.shopping.naver.com/gate.nhn?id=...        쿠팡  \n",
       " 4   https://search.shopping.naver.com/gate.nhn?id=...        옥션  \n",
       " ..                                                ...       ...  \n",
       " 95  https://search.shopping.naver.com/gate.nhn?id=...      톡톡92  \n",
       " 96  https://search.shopping.naver.com/gate.nhn?id=...        옥션  \n",
       " 97  https://search.shopping.naver.com/gate.nhn?id=...       G마켓  \n",
       " 98  https://search.shopping.naver.com/gate.nhn?id=...      인터파크  \n",
       " 99  https://search.shopping.naver.com/gate.nhn?id=...        옥션  \n",
       " \n",
       " [100 rows x 4 columns],\n",
       "                            title lprice  \\\n",
       " 0           농심사리면 110g 40개입 라면사리  13840   \n",
       " 1                 농심 농심 안성탕면 40봉  30270   \n",
       " 2               [농심] 진짜진짜 116g5입   4050   \n",
       " 3       [농심] 신라면 10봉 + 신라면건면 10봉  24090   \n",
       " 4                농심 신라면 40입 1box  34330   \n",
       " ..                           ...    ...   \n",
       " 95  짜왕 농심 짜왕 x 32봉 / 라면 봉지라면 한박스  41710   \n",
       " 96         농심 농심 오징어짬뽕 40봉 (1박스)  36550   \n",
       " 97       농심 얼큰한 너구리 120g 30입 한박스  28730   \n",
       " 98         써니s 농심 4731 안성탕면 125g    760   \n",
       " 99      농심 농심 라면 멀티팩 신라면2+신라면건면2  23500   \n",
       " \n",
       "                                                  link      mall  \n",
       " 0   https://search.shopping.naver.com/gate.nhn?id=...  라이프리치컴퍼니  \n",
       " 1   https://search.shopping.naver.com/gate.nhn?id=...       G마켓  \n",
       " 2   https://search.shopping.naver.com/gate.nhn?id=...      이마트몰  \n",
       " 3   https://search.shopping.naver.com/gate.nhn?id=...      홈앤쇼핑  \n",
       " 4   https://search.shopping.naver.com/gate.nhn?id=...       G마켓  \n",
       " ..                                                ...       ...  \n",
       " 95  https://search.shopping.naver.com/gate.nhn?id=...        옥션  \n",
       " 96  https://search.shopping.naver.com/gate.nhn?id=...       G마켓  \n",
       " 97  https://search.shopping.naver.com/gate.nhn?id=...     스윗하트펀  \n",
       " 98  https://search.shopping.naver.com/gate.nhn?id=...     써니의하루  \n",
       " 99  https://search.shopping.naver.com/gate.nhn?id=...       G마켓  \n",
       " \n",
       " [100 rows x 4 columns]]"
      ]
     },
     "execution_count": 49,
     "metadata": {},
     "output_type": "execute_result"
    }
   ],
   "source": [
    "result_datas = []\n",
    "\n",
    "for n in range(1, 1000, 100):\n",
    "    url = gen_search_url(\"shop\", \"농심\", n, 100 )\n",
    "    json_result = get_result_onepage(url)\n",
    "    result = get_fields(json_result)\n",
    "    result_datas.append(result)\n",
    "    \n",
    "result_datas"
   ]
  },
  {
   "cell_type": "code",
   "execution_count": 53,
   "id": "8129d9c0",
   "metadata": {},
   "outputs": [
    {
     "name": "stdout",
     "output_type": "stream",
     "text": [
      "<class 'pandas.core.frame.DataFrame'>\n",
      "Int64Index: 1000 entries, 0 to 99\n",
      "Data columns (total 4 columns):\n",
      " #   Column  Non-Null Count  Dtype \n",
      "---  ------  --------------  ----- \n",
      " 0   title   1000 non-null   object\n",
      " 1   lprice  1000 non-null   object\n",
      " 2   link    1000 non-null   object\n",
      " 3   mall    1000 non-null   object\n",
      "dtypes: object(4)\n",
      "memory usage: 39.1+ KB\n"
     ]
    }
   ],
   "source": [
    "result_df = pd.concat(result_datas)\n",
    "result_df.info()"
   ]
  },
  {
   "cell_type": "code",
   "execution_count": 54,
   "id": "4333d2af",
   "metadata": {},
   "outputs": [
    {
     "data": {
      "text/html": [
       "<div>\n",
       "<style scoped>\n",
       "    .dataframe tbody tr th:only-of-type {\n",
       "        vertical-align: middle;\n",
       "    }\n",
       "\n",
       "    .dataframe tbody tr th {\n",
       "        vertical-align: top;\n",
       "    }\n",
       "\n",
       "    .dataframe thead th {\n",
       "        text-align: right;\n",
       "    }\n",
       "</style>\n",
       "<table border=\"1\" class=\"dataframe\">\n",
       "  <thead>\n",
       "    <tr style=\"text-align: right;\">\n",
       "      <th></th>\n",
       "      <th>index</th>\n",
       "      <th>title</th>\n",
       "      <th>lprice</th>\n",
       "      <th>link</th>\n",
       "      <th>mall</th>\n",
       "    </tr>\n",
       "  </thead>\n",
       "  <tbody>\n",
       "    <tr>\n",
       "      <th>995</th>\n",
       "      <td>95</td>\n",
       "      <td>짜왕 농심 짜왕 x 32봉 / 라면 봉지라면 한박스</td>\n",
       "      <td>41710</td>\n",
       "      <td>https://search.shopping.naver.com/gate.nhn?id=...</td>\n",
       "      <td>옥션</td>\n",
       "    </tr>\n",
       "    <tr>\n",
       "      <th>996</th>\n",
       "      <td>96</td>\n",
       "      <td>농심 농심 오징어짬뽕 40봉 (1박스)</td>\n",
       "      <td>36550</td>\n",
       "      <td>https://search.shopping.naver.com/gate.nhn?id=...</td>\n",
       "      <td>G마켓</td>\n",
       "    </tr>\n",
       "    <tr>\n",
       "      <th>997</th>\n",
       "      <td>97</td>\n",
       "      <td>농심 얼큰한 너구리 120g 30입 한박스</td>\n",
       "      <td>28730</td>\n",
       "      <td>https://search.shopping.naver.com/gate.nhn?id=...</td>\n",
       "      <td>스윗하트펀</td>\n",
       "    </tr>\n",
       "    <tr>\n",
       "      <th>998</th>\n",
       "      <td>98</td>\n",
       "      <td>써니s 농심 4731 안성탕면 125g</td>\n",
       "      <td>760</td>\n",
       "      <td>https://search.shopping.naver.com/gate.nhn?id=...</td>\n",
       "      <td>써니의하루</td>\n",
       "    </tr>\n",
       "    <tr>\n",
       "      <th>999</th>\n",
       "      <td>99</td>\n",
       "      <td>농심 농심 라면 멀티팩 신라면2+신라면건면2</td>\n",
       "      <td>23500</td>\n",
       "      <td>https://search.shopping.naver.com/gate.nhn?id=...</td>\n",
       "      <td>G마켓</td>\n",
       "    </tr>\n",
       "  </tbody>\n",
       "</table>\n",
       "</div>"
      ],
      "text/plain": [
       "     index                         title lprice  \\\n",
       "995     95  짜왕 농심 짜왕 x 32봉 / 라면 봉지라면 한박스  41710   \n",
       "996     96         농심 농심 오징어짬뽕 40봉 (1박스)  36550   \n",
       "997     97       농심 얼큰한 너구리 120g 30입 한박스  28730   \n",
       "998     98         써니s 농심 4731 안성탕면 125g    760   \n",
       "999     99      농심 농심 라면 멀티팩 신라면2+신라면건면2  23500   \n",
       "\n",
       "                                                  link   mall  \n",
       "995  https://search.shopping.naver.com/gate.nhn?id=...     옥션  \n",
       "996  https://search.shopping.naver.com/gate.nhn?id=...    G마켓  \n",
       "997  https://search.shopping.naver.com/gate.nhn?id=...  스윗하트펀  \n",
       "998  https://search.shopping.naver.com/gate.nhn?id=...  써니의하루  \n",
       "999  https://search.shopping.naver.com/gate.nhn?id=...    G마켓  "
      ]
     },
     "execution_count": 54,
     "metadata": {},
     "output_type": "execute_result"
    }
   ],
   "source": [
    "result_df.reset_index().tail()"
   ]
  },
  {
   "cell_type": "code",
   "execution_count": 57,
   "id": "e4f39303",
   "metadata": {},
   "outputs": [
    {
     "name": "stdout",
     "output_type": "stream",
     "text": [
      "<class 'pandas.core.frame.DataFrame'>\n",
      "Int64Index: 1000 entries, 0 to 99\n",
      "Data columns (total 4 columns):\n",
      " #   Column  Non-Null Count  Dtype \n",
      "---  ------  --------------  ----- \n",
      " 0   title   1000 non-null   object\n",
      " 1   lprice  1000 non-null   object\n",
      " 2   link    1000 non-null   object\n",
      " 3   mall    1000 non-null   object\n",
      "dtypes: object(4)\n",
      "memory usage: 39.1+ KB\n"
     ]
    }
   ],
   "source": [
    "result_df.info()"
   ]
  },
  {
   "cell_type": "code",
   "execution_count": 60,
   "id": "5e807894",
   "metadata": {},
   "outputs": [],
   "source": [
    "result_df[\"lprice\"] = result_df[\"lprice\"].astype(\"float\")"
   ]
  },
  {
   "cell_type": "code",
   "execution_count": 61,
   "id": "dd06d696",
   "metadata": {},
   "outputs": [
    {
     "name": "stdout",
     "output_type": "stream",
     "text": [
      "<class 'pandas.core.frame.DataFrame'>\n",
      "Int64Index: 1000 entries, 0 to 99\n",
      "Data columns (total 4 columns):\n",
      " #   Column  Non-Null Count  Dtype  \n",
      "---  ------  --------------  -----  \n",
      " 0   title   1000 non-null   object \n",
      " 1   lprice  1000 non-null   float64\n",
      " 2   link    1000 non-null   object \n",
      " 3   mall    1000 non-null   object \n",
      "dtypes: float64(1), object(3)\n",
      "memory usage: 39.1+ KB\n"
     ]
    }
   ],
   "source": [
    "result_df.info()"
   ]
  },
  {
   "cell_type": "code",
   "execution_count": 63,
   "id": "33e56ec2",
   "metadata": {},
   "outputs": [
    {
     "ename": "ModuleNotFoundError",
     "evalue": "No module named 'openpyxl'",
     "output_type": "error",
     "traceback": [
      "\u001b[1;31m---------------------------------------------------------------------------\u001b[0m",
      "\u001b[1;31mModuleNotFoundError\u001b[0m                       Traceback (most recent call last)",
      "Input \u001b[1;32mIn [63]\u001b[0m, in \u001b[0;36m<cell line: 1>\u001b[1;34m()\u001b[0m\n\u001b[1;32m----> 1\u001b[0m \u001b[43mresult_df\u001b[49m\u001b[38;5;241;43m.\u001b[39;49m\u001b[43mto_excel\u001b[49m\u001b[43m(\u001b[49m\u001b[38;5;124;43m\"\u001b[39;49m\u001b[38;5;124;43mnaverShop.xlsx\u001b[39;49m\u001b[38;5;124;43m\"\u001b[39;49m\u001b[43m,\u001b[49m\u001b[43m \u001b[49m\u001b[43mencoding\u001b[49m\u001b[38;5;241;43m=\u001b[39;49m\u001b[38;5;124;43m\"\u001b[39;49m\u001b[38;5;124;43mutf-8\u001b[39;49m\u001b[38;5;124;43m\"\u001b[39;49m\u001b[43m)\u001b[49m\n",
      "File \u001b[1;32m~\\anaconda3\\envs\\web\\lib\\site-packages\\pandas\\core\\generic.py:2345\u001b[0m, in \u001b[0;36mNDFrame.to_excel\u001b[1;34m(self, excel_writer, sheet_name, na_rep, float_format, columns, header, index, index_label, startrow, startcol, engine, merge_cells, encoding, inf_rep, verbose, freeze_panes, storage_options)\u001b[0m\n\u001b[0;32m   2332\u001b[0m \u001b[38;5;28;01mfrom\u001b[39;00m \u001b[38;5;21;01mpandas\u001b[39;00m\u001b[38;5;21;01m.\u001b[39;00m\u001b[38;5;21;01mio\u001b[39;00m\u001b[38;5;21;01m.\u001b[39;00m\u001b[38;5;21;01mformats\u001b[39;00m\u001b[38;5;21;01m.\u001b[39;00m\u001b[38;5;21;01mexcel\u001b[39;00m \u001b[38;5;28;01mimport\u001b[39;00m ExcelFormatter\n\u001b[0;32m   2334\u001b[0m formatter \u001b[38;5;241m=\u001b[39m ExcelFormatter(\n\u001b[0;32m   2335\u001b[0m     df,\n\u001b[0;32m   2336\u001b[0m     na_rep\u001b[38;5;241m=\u001b[39mna_rep,\n\u001b[1;32m   (...)\u001b[0m\n\u001b[0;32m   2343\u001b[0m     inf_rep\u001b[38;5;241m=\u001b[39minf_rep,\n\u001b[0;32m   2344\u001b[0m )\n\u001b[1;32m-> 2345\u001b[0m \u001b[43mformatter\u001b[49m\u001b[38;5;241;43m.\u001b[39;49m\u001b[43mwrite\u001b[49m\u001b[43m(\u001b[49m\n\u001b[0;32m   2346\u001b[0m \u001b[43m    \u001b[49m\u001b[43mexcel_writer\u001b[49m\u001b[43m,\u001b[49m\n\u001b[0;32m   2347\u001b[0m \u001b[43m    \u001b[49m\u001b[43msheet_name\u001b[49m\u001b[38;5;241;43m=\u001b[39;49m\u001b[43msheet_name\u001b[49m\u001b[43m,\u001b[49m\n\u001b[0;32m   2348\u001b[0m \u001b[43m    \u001b[49m\u001b[43mstartrow\u001b[49m\u001b[38;5;241;43m=\u001b[39;49m\u001b[43mstartrow\u001b[49m\u001b[43m,\u001b[49m\n\u001b[0;32m   2349\u001b[0m \u001b[43m    \u001b[49m\u001b[43mstartcol\u001b[49m\u001b[38;5;241;43m=\u001b[39;49m\u001b[43mstartcol\u001b[49m\u001b[43m,\u001b[49m\n\u001b[0;32m   2350\u001b[0m \u001b[43m    \u001b[49m\u001b[43mfreeze_panes\u001b[49m\u001b[38;5;241;43m=\u001b[39;49m\u001b[43mfreeze_panes\u001b[49m\u001b[43m,\u001b[49m\n\u001b[0;32m   2351\u001b[0m \u001b[43m    \u001b[49m\u001b[43mengine\u001b[49m\u001b[38;5;241;43m=\u001b[39;49m\u001b[43mengine\u001b[49m\u001b[43m,\u001b[49m\n\u001b[0;32m   2352\u001b[0m \u001b[43m    \u001b[49m\u001b[43mstorage_options\u001b[49m\u001b[38;5;241;43m=\u001b[39;49m\u001b[43mstorage_options\u001b[49m\u001b[43m,\u001b[49m\n\u001b[0;32m   2353\u001b[0m \u001b[43m\u001b[49m\u001b[43m)\u001b[49m\n",
      "File \u001b[1;32m~\\anaconda3\\envs\\web\\lib\\site-packages\\pandas\\io\\formats\\excel.py:888\u001b[0m, in \u001b[0;36mExcelFormatter.write\u001b[1;34m(self, writer, sheet_name, startrow, startcol, freeze_panes, engine, storage_options)\u001b[0m\n\u001b[0;32m    884\u001b[0m     need_save \u001b[38;5;241m=\u001b[39m \u001b[38;5;28;01mFalse\u001b[39;00m\n\u001b[0;32m    885\u001b[0m \u001b[38;5;28;01melse\u001b[39;00m:\n\u001b[0;32m    886\u001b[0m     \u001b[38;5;66;03m# error: Cannot instantiate abstract class 'ExcelWriter' with abstract\u001b[39;00m\n\u001b[0;32m    887\u001b[0m     \u001b[38;5;66;03m# attributes 'engine', 'save', 'supported_extensions' and 'write_cells'\u001b[39;00m\n\u001b[1;32m--> 888\u001b[0m     writer \u001b[38;5;241m=\u001b[39m \u001b[43mExcelWriter\u001b[49m\u001b[43m(\u001b[49m\u001b[43m  \u001b[49m\u001b[38;5;66;43;03m# type: ignore[abstract]\u001b[39;49;00m\n\u001b[0;32m    889\u001b[0m \u001b[43m        \u001b[49m\u001b[43mwriter\u001b[49m\u001b[43m,\u001b[49m\u001b[43m \u001b[49m\u001b[43mengine\u001b[49m\u001b[38;5;241;43m=\u001b[39;49m\u001b[43mengine\u001b[49m\u001b[43m,\u001b[49m\u001b[43m \u001b[49m\u001b[43mstorage_options\u001b[49m\u001b[38;5;241;43m=\u001b[39;49m\u001b[43mstorage_options\u001b[49m\n\u001b[0;32m    890\u001b[0m \u001b[43m    \u001b[49m\u001b[43m)\u001b[49m\n\u001b[0;32m    891\u001b[0m     need_save \u001b[38;5;241m=\u001b[39m \u001b[38;5;28;01mTrue\u001b[39;00m\n\u001b[0;32m    893\u001b[0m \u001b[38;5;28;01mtry\u001b[39;00m:\n",
      "File \u001b[1;32m~\\anaconda3\\envs\\web\\lib\\site-packages\\pandas\\io\\excel\\_openpyxl.py:49\u001b[0m, in \u001b[0;36mOpenpyxlWriter.__init__\u001b[1;34m(self, path, engine, date_format, datetime_format, mode, storage_options, if_sheet_exists, engine_kwargs, **kwargs)\u001b[0m\n\u001b[0;32m     36\u001b[0m \u001b[38;5;28;01mdef\u001b[39;00m \u001b[38;5;21m__init__\u001b[39m(\n\u001b[0;32m     37\u001b[0m     \u001b[38;5;28mself\u001b[39m,\n\u001b[0;32m     38\u001b[0m     path,\n\u001b[1;32m   (...)\u001b[0m\n\u001b[0;32m     47\u001b[0m ):\n\u001b[0;32m     48\u001b[0m     \u001b[38;5;66;03m# Use the openpyxl module as the Excel writer.\u001b[39;00m\n\u001b[1;32m---> 49\u001b[0m     \u001b[38;5;28;01mfrom\u001b[39;00m \u001b[38;5;21;01mopenpyxl\u001b[39;00m\u001b[38;5;21;01m.\u001b[39;00m\u001b[38;5;21;01mworkbook\u001b[39;00m \u001b[38;5;28;01mimport\u001b[39;00m Workbook\n\u001b[0;32m     51\u001b[0m     engine_kwargs \u001b[38;5;241m=\u001b[39m combine_kwargs(engine_kwargs, kwargs)\n\u001b[0;32m     53\u001b[0m     \u001b[38;5;28msuper\u001b[39m()\u001b[38;5;241m.\u001b[39m\u001b[38;5;21m__init__\u001b[39m(\n\u001b[0;32m     54\u001b[0m         path,\n\u001b[0;32m     55\u001b[0m         mode\u001b[38;5;241m=\u001b[39mmode,\n\u001b[1;32m   (...)\u001b[0m\n\u001b[0;32m     58\u001b[0m         engine_kwargs\u001b[38;5;241m=\u001b[39mengine_kwargs,\n\u001b[0;32m     59\u001b[0m     )\n",
      "\u001b[1;31mModuleNotFoundError\u001b[0m: No module named 'openpyxl'"
     ]
    }
   ],
   "source": [
    "result_df.to_excel(\"naverShop.xlsx\", encoding=\"utf-8\")"
   ]
  },
  {
   "cell_type": "code",
   "execution_count": 64,
   "id": "874af344",
   "metadata": {},
   "outputs": [
    {
     "name": "stdout",
     "output_type": "stream",
     "text": [
      "Collecting openpyxl\n",
      "  Downloading openpyxl-3.0.10-py2.py3-none-any.whl (242 kB)\n",
      "     -------------------------------------- 242.1/242.1 kB 7.5 MB/s eta 0:00:00\n",
      "Collecting et-xmlfile\n",
      "  Downloading et_xmlfile-1.1.0-py3-none-any.whl (4.7 kB)\n",
      "Installing collected packages: et-xmlfile, openpyxl\n",
      "Successfully installed et-xmlfile-1.1.0 openpyxl-3.0.10\n"
     ]
    }
   ],
   "source": [
    "!pip install openpyxl"
   ]
  },
  {
   "cell_type": "code",
   "execution_count": 65,
   "id": "22ec9719",
   "metadata": {},
   "outputs": [],
   "source": [
    "result_df.to_excel(\"naverShop.xlsx\", encoding=\"utf-8\")"
   ]
  },
  {
   "cell_type": "code",
   "execution_count": null,
   "id": "7641c231",
   "metadata": {},
   "outputs": [],
   "source": []
  }
 ],
 "metadata": {
  "kernelspec": {
   "display_name": "Python 3 (ipykernel)",
   "language": "python",
   "name": "python3"
  },
  "language_info": {
   "codemirror_mode": {
    "name": "ipython",
    "version": 3
   },
   "file_extension": ".py",
   "mimetype": "text/x-python",
   "name": "python",
   "nbconvert_exporter": "python",
   "pygments_lexer": "ipython3",
   "version": "3.8.13"
  }
 },
 "nbformat": 4,
 "nbformat_minor": 5
}
