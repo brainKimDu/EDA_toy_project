{
 "cells": [
  {
   "cell_type": "markdown",
   "id": "17666ce0",
   "metadata": {},
   "source": [
    "# 문제2) ISBN넘버를 통해 중복데이터를 정리하세요."
   ]
  },
  {
   "cell_type": "code",
   "execution_count": 27,
   "id": "046e4be8",
   "metadata": {},
   "outputs": [],
   "source": [
    "import pandas as pd"
   ]
  },
  {
   "cell_type": "markdown",
   "id": "aa373da7",
   "metadata": {},
   "source": [
    "## C언어 csv에는 C++, C#이 들어갈 수도 있고, 자바 csv에는 자바스크립트가 들어갈 수 있다.\n",
    "- 그 외에는 중복행을 제거하는 drop_duplicates()를 통해 가공하고 다시 저장하자."
   ]
  },
  {
   "cell_type": "code",
   "execution_count": 42,
   "id": "70e7aa53",
   "metadata": {},
   "outputs": [
    {
     "name": "stdout",
     "output_type": "stream",
     "text": [
      "<class 'pandas.core.frame.DataFrame'>\n",
      "Int64Index: 555 entries, 0 to 21\n",
      "Data columns (total 6 columns):\n",
      " #   Column  Non-Null Count  Dtype \n",
      "---  ------  --------------  ----- \n",
      " 0   제목      555 non-null    object\n",
      " 1   저자      503 non-null    object\n",
      " 2   출판사     555 non-null    object\n",
      " 3   출판일     555 non-null    int64 \n",
      " 4   가격      555 non-null    int64 \n",
      " 5   ISBN    555 non-null    int64 \n",
      "dtypes: int64(3), object(3)\n",
      "memory usage: 30.4+ KB\n"
     ]
    }
   ],
   "source": [
    "C_data = pd.read_csv(\"./c.csv\", index_col = 0 )\n",
    "C_data.info()"
   ]
  },
  {
   "cell_type": "code",
   "execution_count": 43,
   "id": "39d7db4e",
   "metadata": {},
   "outputs": [
    {
     "name": "stdout",
     "output_type": "stream",
     "text": [
      "<class 'pandas.core.frame.DataFrame'>\n",
      "Int64Index: 555 entries, 0 to 21\n",
      "Data columns (total 6 columns):\n",
      " #   Column  Non-Null Count  Dtype \n",
      "---  ------  --------------  ----- \n",
      " 0   제목      555 non-null    object\n",
      " 1   저자      503 non-null    object\n",
      " 2   출판사     555 non-null    object\n",
      " 3   출판일     555 non-null    int64 \n",
      " 4   가격      555 non-null    int64 \n",
      " 5   ISBN    555 non-null    int64 \n",
      "dtypes: int64(3), object(3)\n",
      "memory usage: 30.4+ KB\n"
     ]
    }
   ],
   "source": [
    "C_data = C_data[~C_data['제목'].str.contains('C\\+\\+')]\n",
    "C_data = C_data[~C_data['제목'].str.contains('C\\#')]\n",
    "C_data.info()"
   ]
  },
  {
   "cell_type": "code",
   "execution_count": 44,
   "id": "3e706d75",
   "metadata": {},
   "outputs": [
    {
     "name": "stdout",
     "output_type": "stream",
     "text": [
      "<class 'pandas.core.frame.DataFrame'>\n",
      "Int64Index: 1480 entries, 0 to 99\n",
      "Data columns (total 6 columns):\n",
      " #   Column  Non-Null Count  Dtype  \n",
      "---  ------  --------------  -----  \n",
      " 0   제목      1480 non-null   object \n",
      " 1   저자      1043 non-null   object \n",
      " 2   출판사     1480 non-null   object \n",
      " 3   출판일     1474 non-null   float64\n",
      " 4   가격      1480 non-null   int64  \n",
      " 5   ISBN    1480 non-null   int64  \n",
      "dtypes: float64(1), int64(2), object(3)\n",
      "memory usage: 80.9+ KB\n"
     ]
    }
   ],
   "source": [
    "java_data = pd.read_csv(\"./java.csv\", index_col = 0 )\n",
    "java_data.info()"
   ]
  },
  {
   "cell_type": "code",
   "execution_count": 58,
   "id": "5b911ce3",
   "metadata": {},
   "outputs": [
    {
     "name": "stdout",
     "output_type": "stream",
     "text": [
      "<class 'pandas.core.frame.DataFrame'>\n",
      "Int64Index: 1192 entries, 0 to 99\n",
      "Data columns (total 6 columns):\n",
      " #   Column  Non-Null Count  Dtype  \n",
      "---  ------  --------------  -----  \n",
      " 0   제목      1192 non-null   object \n",
      " 1   저자      785 non-null    object \n",
      " 2   출판사     1192 non-null   object \n",
      " 3   출판일     1186 non-null   float64\n",
      " 4   가격      1192 non-null   int64  \n",
      " 5   ISBN    1192 non-null   int64  \n",
      "dtypes: float64(1), int64(2), object(3)\n",
      "memory usage: 65.2+ KB\n"
     ]
    }
   ],
   "source": [
    "java_data = java_data[~java_data['제목'].str.contains('자바스크립트')]\n",
    "java_data = java_data[~java_data['제목'].str.contains('Javascript')]\n",
    "java_data = java_data[~java_data['제목'].str.contains('javascript')]\n",
    "java_data.drop_duplicates()\n",
    "java_data.info()"
   ]
  },
  {
   "cell_type": "code",
   "execution_count": 59,
   "id": "b33d45f6",
   "metadata": {},
   "outputs": [],
   "source": [
    "java_data.to_csv(\n",
    "    \"java.csv\", sep=',', encoding=\"UTF-8\"\n",
    ")"
   ]
  },
  {
   "cell_type": "markdown",
   "id": "6555172b",
   "metadata": {},
   "source": [
    "## c언어 책의 개수는 다음과 같다."
   ]
  },
  {
   "cell_type": "code",
   "execution_count": 47,
   "id": "2252cd04",
   "metadata": {},
   "outputs": [
    {
     "data": {
      "text/plain": [
       "555"
      ]
     },
     "execution_count": 47,
     "metadata": {},
     "output_type": "execute_result"
    }
   ],
   "source": [
    "len(C_data)"
   ]
  },
  {
   "cell_type": "markdown",
   "id": "9029b135",
   "metadata": {},
   "source": [
    "ISBN정보로 중복 데이터를 정리하겠습니다.\n",
    "- unnique() : 고유한 value는 몇개가 있는지 체크합니다.\n",
    "- value_counts() 중복되는 value는 몇개가 있는지 확인해줍니다."
   ]
  },
  {
   "cell_type": "code",
   "execution_count": 48,
   "id": "a8801965",
   "metadata": {},
   "outputs": [
    {
     "data": {
      "text/plain": [
       "555"
      ]
     },
     "execution_count": 48,
     "metadata": {},
     "output_type": "execute_result"
    }
   ],
   "source": [
    "C_data['ISBN'].nunique()"
   ]
  },
  {
   "cell_type": "code",
   "execution_count": 49,
   "id": "b13587de",
   "metadata": {},
   "outputs": [
    {
     "data": {
      "text/plain": [
       "9791140701551    1\n",
       "9788982417351    1\n",
       "9788963510422    1\n",
       "9788963510187    1\n",
       "9788989383086    1\n",
       "                ..\n",
       "9788956660790    1\n",
       "9788995901816    1\n",
       "9788980003402    1\n",
       "9788988379967    1\n",
       "9781379952480    1\n",
       "Name: ISBN, Length: 555, dtype: int64"
      ]
     },
     "execution_count": 49,
     "metadata": {},
     "output_type": "execute_result"
    }
   ],
   "source": [
    "C_data['ISBN'].value_counts()"
   ]
  },
  {
   "cell_type": "code",
   "execution_count": 50,
   "id": "6916f9e0",
   "metadata": {},
   "outputs": [
    {
     "data": {
      "text/plain": [
       "9791140701551    1\n",
       "9788982417351    1\n",
       "9788963510422    1\n",
       "9788963510187    1\n",
       "9788989383086    1\n",
       "                ..\n",
       "9788956660790    1\n",
       "9788995901816    1\n",
       "9788980003402    1\n",
       "9788988379967    1\n",
       "9781379952480    1\n",
       "Name: ISBN, Length: 555, dtype: int64"
      ]
     },
     "execution_count": 50,
     "metadata": {},
     "output_type": "execute_result"
    }
   ],
   "source": [
    "C_data = C_data.drop_duplicates(['ISBN'])\n",
    "C_data['ISBN'].value_counts()"
   ]
  },
  {
   "cell_type": "markdown",
   "id": "727fb997",
   "metadata": {},
   "source": [
    "- 저장하자."
   ]
  },
  {
   "cell_type": "code",
   "execution_count": 51,
   "id": "86821850",
   "metadata": {},
   "outputs": [],
   "source": [
    "C_data.to_csv(\n",
    "    \"c.csv\", sep=',', encoding=\"UTF-8\"\n",
    ")"
   ]
  },
  {
   "cell_type": "markdown",
   "id": "13bf1105",
   "metadata": {},
   "source": [
    "- 중복행을 제거하자 그리고 새로 저장하자.\n",
    "- c언어와 자바는 빼고 가도록 하자."
   ]
  },
  {
   "cell_type": "code",
   "execution_count": 57,
   "id": "51c8306b",
   "metadata": {},
   "outputs": [
    {
     "name": "stdout",
     "output_type": "stream",
     "text": [
      "C샵 저장\n",
      "C++ 저장\n",
      "자바스크립트 저장\n",
      "PHP 저장\n",
      "파이썬 저장\n",
      "SQL 저장\n",
      "비쥬얼베이직 저장\n",
      "저장 끝\n"
     ]
    }
   ],
   "source": [
    "C_shop_data = pd.read_csv(\"./C#.csv\", index_col = 0 ).drop_duplicates(['ISBN'])\n",
    "C_shop_data.to_csv(\n",
    "    \"C#.csv\", sep=',', encoding=\"UTF-8\"\n",
    ")\n",
    "print(\"C샵 저장\")\n",
    "\n",
    "\n",
    "Cpp_data = pd.read_csv(\"./c++.csv\", index_col = 0 ).drop_duplicates(['ISBN'])\n",
    "Cpp_data.to_csv(\n",
    "    \"c++.csv\", sep=',', encoding=\"UTF-8\"\n",
    ")\n",
    "print(\"C++ 저장\")\n",
    "\n",
    "\n",
    "javascipt_data = pd.read_csv(\"./javascipt.csv\", index_col = 0 ).drop_duplicates(['ISBN'])\n",
    "javascipt_data.to_csv(\n",
    "    \"javascipt.csv\", sep=',', encoding=\"UTF-8\"\n",
    ")\n",
    "print(\"자바스크립트 저장\")\n",
    "\n",
    "\n",
    "PHP_data = pd.read_csv(\"./PHP.csv\", index_col = 0 ).drop_duplicates(['ISBN'])\n",
    "PHP_data.to_csv(\n",
    "    \"PHP.csv\", sep=',', encoding=\"UTF-8\"\n",
    ")\n",
    "print(\"PHP 저장\")\n",
    "\n",
    "\n",
    "python_data = pd.read_csv(\"./python.csv\", index_col = 0 ).drop_duplicates(['ISBN'])\n",
    "python_data.to_csv(\n",
    "    \"python.csv\", sep=',', encoding=\"UTF-8\"\n",
    ")\n",
    "print(\"파이썬 저장\")\n",
    "\n",
    "\n",
    "SQL_data = pd.read_csv(\"./SQL.csv\", index_col = 0 ).drop_duplicates(['ISBN'])\n",
    "SQL_data.to_csv(\n",
    "    \"SQL.csv\", sep=',', encoding=\"UTF-8\"\n",
    ")\n",
    "print(\"SQL 저장\")\n",
    "\n",
    "\n",
    "visualBasic_data = pd.read_csv(\"./비쥬얼베이직.csv\", index_col = 0 ).drop_duplicates(['ISBN'])\n",
    "visualBasic_data.to_csv(\n",
    "    \"비쥬얼베이직.csv\", sep=',', encoding=\"UTF-8\"\n",
    ")\n",
    "print(\"비쥬얼베이직 저장\")\n",
    "\n",
    "print(\"저장 끝\")"
   ]
  },
  {
   "cell_type": "markdown",
   "id": "8e89f6b3",
   "metadata": {},
   "source": [
    "## 데이터 전처리 과정을 마무리 하자."
   ]
  },
  {
   "cell_type": "code",
   "execution_count": null,
   "id": "7e74148b",
   "metadata": {},
   "outputs": [],
   "source": []
  }
 ],
 "metadata": {
  "kernelspec": {
   "display_name": "Python 3 (ipykernel)",
   "language": "python",
   "name": "python3"
  },
  "language_info": {
   "codemirror_mode": {
    "name": "ipython",
    "version": 3
   },
   "file_extension": ".py",
   "mimetype": "text/x-python",
   "name": "python",
   "nbconvert_exporter": "python",
   "pygments_lexer": "ipython3",
   "version": "3.8.13"
  }
 },
 "nbformat": 4,
 "nbformat_minor": 5
}
