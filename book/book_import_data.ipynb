{
 "cells": [
  {
   "cell_type": "markdown",
   "metadata": {},
   "source": [
    "# 문제1 : 상위 10개의 출판정보를 수집하세요."
   ]
  },
  {
   "cell_type": "code",
   "execution_count": 21,
   "metadata": {},
   "outputs": [],
   "source": [
    "import os\n",
    "import sys\n",
    "import urllib.request"
   ]
  },
  {
   "cell_type": "code",
   "execution_count": 22,
   "metadata": {},
   "outputs": [],
   "source": [
    "client_id = \"ajPeLsTsgXTaqSjnHCqV\"\n",
    "client_secret = \"m4Bq7BlW37\""
   ]
  },
  {
   "cell_type": "code",
   "execution_count": 23,
   "metadata": {},
   "outputs": [
    {
     "data": {
      "text/plain": [
       "'https://openapi.naver.com/v1/search/book?query=\"%ED%8C%8C%EC%9D%B4%EC%8D%AC\"&start=1&display=3'"
      ]
     },
     "execution_count": 23,
     "metadata": {},
     "output_type": "execute_result"
    }
   ],
   "source": [
    "def giveme_url(site_type, search, start_num, show_num ):\n",
    "    site = \"https://openapi.naver.com/v1/search/\" + site_type + '?query=\"' +  \\\n",
    "            urllib.parse.quote(search)  + '\"&start=' + str(start_num)  + \"&display=\" + str(show_num)\n",
    "    return site\n",
    "\n",
    "url = giveme_url(\"book\", \"파이썬\", 1, 3)\n",
    "url"
   ]
  },
  {
   "cell_type": "code",
   "execution_count": 24,
   "metadata": {},
   "outputs": [
    {
     "name": "stdout",
     "output_type": "stream",
     "text": [
      "*\n"
     ]
    },
    {
     "data": {
      "text/plain": [
       "{'lastBuildDate': 'Sun, 16 Oct 2022 17:30:14 +0900',\n",
       " 'total': 785,\n",
       " 'start': 1,\n",
       " 'display': 3,\n",
       " 'items': [{'title': '혼자 공부하는 파이썬 (1:1 과외하듯 배우는 프로그래밍 자습서)',\n",
       "   'link': 'https://search.shopping.naver.com/book/catalog/32507605957',\n",
       "   'image': 'https://shopping-phinf.pstatic.net/main_3250760/32507605957.20220603093703.jpg',\n",
       "   'author': '윤인성',\n",
       "   'discount': '19800',\n",
       "   'publisher': '한빛미디어',\n",
       "   'pubdate': '20220601',\n",
       "   'isbn': '9791162245651',\n",
       "   'description': '『혼자 공부하는 파이썬』이 더욱 흥미있고 알찬 내용으로 개정되었습니다. 프로그래밍이 정말 처음인 입문자도 따라갈 수 있는 친절한 설명과 단계별 학습은 그대로! 혼자 공부하더라도 체계적으로 계획을 세워 학습할 수 있도록 ‘혼공 계획표’를 새롭게 추가했습니다. 또한 입문자가 자주 물어보는 질문과 오류 해결 방법을 적재적소에 배치하여 예상치 못한 문제에 부딪혀도 좌절하지 않고 끝까지 완독할 수 있도록 도와줍니다. 단순한 문법 암기와 코딩 따라하기에 지쳤다면, 새로운 혼공파와 함께 ‘누적 예제’와 ‘도전 문제’로 프로그래밍의 신세계를 경험해 보세요! 배운 내용을 씹고 뜯고 맛보고 즐기다 보면 응용력은 물론 알고리즘 사고력까지 키워 코딩 실력이 쑥쑥 성장할 것입니다.\\n\\n혼자 해도 충분하다! 1:1 과외하듯 배우는 파이썬 프로그래밍 자습서\\n이 책은 독학으로 파이썬을 배우는 입문자가 ‘꼭 필요한 내용을 제대로 학습’할 수 있도록 구성했습니다. 뭘 모르는지조차 모르는 입문자의 막연한 마음에 십분 공감하여 과외 선생님이 알려주듯 친절하게, 핵심적인 내용만 콕콕 집어줍니다. 책의 첫 페이지를 펼쳐서 마지막 페이지를 덮을 때까지, 혼자서도 충분히 파이썬을 배울 수 있다는 자신감과 확신이 계속될 것입니다!\\n\\n베타리더 검증으로, ‘함께 만든’ 입문자 맞춤형 도서\\n베타리더와 함께 입문자에게 맞는 난이도, 분량, 학습 요소 등을 적극 반영했습니다. 어려운 용어와 개념은 한 번 더 풀어쓰고, 복잡한 설명은 눈에 잘 들어오는 그림으로 풀어냈습니다. ‘혼자 공부해 본’ 여러 입문자의 초심과 눈높이가 책 곳곳에 반영된 것이 이 책의 가장 큰 장점입니다.'},\n",
       "  {'title': '파이썬 웹 스크레이핑 완벽 가이드 (파이썬 기초문법부터 스트림릿을 이용한 웹 앱 제작과 카카오 API 활용까지)',\n",
       "   'link': 'https://search.shopping.naver.com/book/catalog/34563026623',\n",
       "   'image': 'https://shopping-phinf.pstatic.net/main_3456302/34563026623.20220927115642.jpg',\n",
       "   'author': '최은석',\n",
       "   'discount': '28800',\n",
       "   'publisher': '위키북스',\n",
       "   'pubdate': '20220927',\n",
       "   'isbn': '9791158393571',\n",
       "   'description': '파이썬을 이용해 웹 스크레이핑을 수행하고 수집한 데이터를 다양하게 활용하자!\\n\\n이 책에서는 파이썬을 이용해 웹 스크레이핑을 수행하고 수집한 데이터를 처리하고 활용하는 방법을 다룹니다. 기본적인 파이썬 문법부터 넘파이, 판다스, 실무에 활용 가능한 다양한 웹 데이터 수집 및 가공 방법, 스트림릿을 이용한 웹 앱 제작과 카카오 API 활용까지 상세히 설명하고 있어 파이썬을 처음 배우는 초보자뿐만 아니라 실무에서 웹 스크레이핑 기술을 활용하고자 하는 분들에게 훌륭한 가이드가 될 것입니다.\\n\\n이 책은 실제 사용 빈도가 높은 웹 사이트(네이버, 다음, 구글, 유튜브, 스포티파이 등)에서 다양한 데이터(날씨, 주식, 환율, 부동산, 가상 화폐, 노래, 동영상 검색 결과, 뉴스, 웹 문서 및 이미지 검색 결과)를 가져와 활용하는 전체 과정을 알기 쉽게 설명합니다.\\n\\n★ 이 책에서 다루는 내용 ★\\n\\n◎ 웹 스크레이핑 기초, requests와 Beautiful Soup를 활용한 웹 데이터 수집 및 처리\\n◎ 셀레니움(Selenium)을 이용한 웹 브라우저 제어, 로그인 자동화, 동적 웹 페이지 데이터 수집\\n◎ 웹 API 기초, 웹 API 인증, 응답 데이터 분석 및 관심 데이터 추출, 데이터 시각화\\n◎ 스트림릿(Streamlit) 기초 사용법, 웹 스크레이핑 웹 앱 제작 및 배포\\n◎ 카카오 API를 활용한 웹 문서 및 이미지 검색, 웹 스크레이핑 결과를 카카오톡 메시지로 전송'},\n",
       "  {'title': '파이썬과 40개의 작품들 (자동화, 크롤링, 이미지처리, 데이터분석, 웹페이지, GUI 프로그램, 게임)',\n",
       "   'link': 'https://search.shopping.naver.com/book/catalog/32472041705',\n",
       "   'image': 'https://shopping-phinf.pstatic.net/main_3247204/32472041705.20220527090930.jpg',\n",
       "   'author': '장문철',\n",
       "   'discount': '16920',\n",
       "   'publisher': '앤써북',\n",
       "   'pubdate': '20220228',\n",
       "   'isbn': '9791185553931',\n",
       "   'description': '이 책은 내 업무와 생활에 바로 적용할 수 있는 40개의 프로그램을 직접 코딩해서 만들어보고, 동시에 파이썬을 자연스럽게 이해할 수 있게 구성하였다!\\n\\n파이썬 기초 문법 떼고 자동화, 크롤링, 이미지처리, 데이터분석, 웹페이지, GUI 프로그램, 게임, 인공지능 관련 40개 프로그램 직접 파이썬 코딩하며 만들어 본다.  \\n\\n이 책은 파이썬 기초 문법을 익힌 후 총 40개의 주제별 프로그램을 직접 코딩하며 만들어볼 수 있도록 구성하였다.'}]}"
      ]
     },
     "execution_count": 24,
     "metadata": {},
     "output_type": "execute_result"
    }
   ],
   "source": [
    "import json\n",
    "\n",
    "def giveme_code(url):\n",
    "    request = urllib.request.Request(url)\n",
    "    request.add_header(\"X-Naver-Client-Id\", client_id)\n",
    "    request.add_header(\"X-Naver-Client-Secret\", client_secret)\n",
    "    response = urllib.request.urlopen(request)\n",
    "    print(\"*\")\n",
    "    return json.loads(response.read().decode(\"utf-8\"))\n",
    "    \n",
    "    \n",
    "url = giveme_url(\"book\", \"파이썬\", 1, 3)\n",
    "code = giveme_code(url)\n",
    "code"
   ]
  },
  {
   "cell_type": "code",
   "execution_count": 25,
   "metadata": {},
   "outputs": [
    {
     "data": {
      "text/plain": [
       "'혼자 공부하는 파이썬 (1:1 과외하듯 배우는 프로그래밍 자습서)'"
      ]
     },
     "execution_count": 25,
     "metadata": {},
     "output_type": "execute_result"
    }
   ],
   "source": [
    "code['items'][0][\"title\"]"
   ]
  },
  {
   "cell_type": "code",
   "execution_count": 26,
   "metadata": {},
   "outputs": [
    {
     "data": {
      "text/plain": [
       "'윤인성'"
      ]
     },
     "execution_count": 26,
     "metadata": {},
     "output_type": "execute_result"
    }
   ],
   "source": [
    "code['items'][0][\"author\"]"
   ]
  },
  {
   "cell_type": "code",
   "execution_count": 27,
   "metadata": {},
   "outputs": [
    {
     "data": {
      "text/plain": [
       "'19800'"
      ]
     },
     "execution_count": 27,
     "metadata": {},
     "output_type": "execute_result"
    }
   ],
   "source": [
    "code['items'][0][\"discount\"]"
   ]
  },
  {
   "cell_type": "code",
   "execution_count": 28,
   "metadata": {},
   "outputs": [
    {
     "data": {
      "text/plain": [
       "'20220601'"
      ]
     },
     "execution_count": 28,
     "metadata": {},
     "output_type": "execute_result"
    }
   ],
   "source": [
    "code['items'][0][\"pubdate\"]"
   ]
  },
  {
   "cell_type": "code",
   "execution_count": 29,
   "metadata": {},
   "outputs": [
    {
     "data": {
      "text/plain": [
       "'한빛미디어'"
      ]
     },
     "execution_count": 29,
     "metadata": {},
     "output_type": "execute_result"
    }
   ],
   "source": [
    "code['items'][0][\"publisher\"]"
   ]
  },
  {
   "cell_type": "code",
   "execution_count": 30,
   "metadata": {},
   "outputs": [
    {
     "data": {
      "text/plain": [
       "'9791162245651'"
      ]
     },
     "execution_count": 30,
     "metadata": {},
     "output_type": "execute_result"
    }
   ],
   "source": [
    "code['items'][0][\"isbn\"]"
   ]
  },
  {
   "cell_type": "code",
   "execution_count": 31,
   "metadata": {},
   "outputs": [],
   "source": [
    "import pandas as pd\n",
    "\n",
    "def save_info(data):\n",
    "    title = [each[\"title\"] for each in data[\"items\"]]\n",
    "    author = [each[\"author\"] for each in data[\"items\"]]\n",
    "    discount = [each[\"discount\"] for each in data[\"items\"]]\n",
    "    publisher = [each[\"publisher\"] for each in data[\"items\"]]\n",
    "    pubdate = [each[\"pubdate\"] for each in data[\"items\"]]\n",
    "    isbn = [each[\"isbn\"] for each in data[\"items\"]]\n",
    "    \n",
    "    result = pd.DataFrame({\n",
    "        \"제목\" : title,\n",
    "        \"저자\" : author,\n",
    "        \"출판사\" : publisher,\n",
    "        \"출판일\" : pubdate,\n",
    "        \"가격\" : discount,\n",
    "        \"ISBN\" : isbn\n",
    "    }, columns = [\"제목\", \"저자\", \"출판사\", \"출판일\", \"가격\", \"ISBN\" ])\n",
    "    return result"
   ]
  },
  {
   "cell_type": "code",
   "execution_count": 32,
   "metadata": {},
   "outputs": [],
   "source": [
    "import time"
   ]
  },
  {
   "cell_type": "code",
   "execution_count": 33,
   "metadata": {},
   "outputs": [],
   "source": [
    "def giveBookInfo(datas , name, start, end):\n",
    "        for n in range(start, end, 100):\n",
    "                url = giveme_url(\"book\", name, n, 100 )\n",
    "                book_result = giveme_code(url)\n",
    "                result = save_info(book_result)\n",
    "                if len(result) == 0:\n",
    "                    print(\"데이터 수집이 종료되었습니다.\")\n",
    "                    break\n",
    "                datas.append(result)\n",
    "                time.sleep(1)"
   ]
  },
  {
   "cell_type": "code",
   "execution_count": 34,
   "metadata": {},
   "outputs": [
    {
     "name": "stdout",
     "output_type": "stream",
     "text": [
      "파이썬 시작!!\n",
      "*\n",
      "*\n",
      "*\n",
      "*\n",
      "*\n",
      "*\n",
      "*\n",
      "*\n",
      "*\n",
      "데이터 수집이 종료되었습니다.\n",
      "*\n",
      "*\n",
      "*\n",
      "*\n",
      "*\n",
      "*\n",
      "*\n",
      "*\n",
      "*\n",
      "*\n",
      "씨 시작!!\n",
      "*\n",
      "*\n",
      "*\n",
      "*\n",
      "*\n",
      "*\n",
      "*\n",
      "*\n",
      "데이터 수집이 종료되었습니다.\n",
      "*\n",
      "*\n",
      "*\n",
      "데이터 수집이 종료되었습니다.\n",
      "씨피피 시작!!\n",
      "*\n",
      "*\n",
      "*\n",
      "*\n",
      "*\n",
      "*\n",
      "*\n",
      "*\n",
      "*\n",
      "데이터 수집이 종료되었습니다.\n",
      "씨썁 시작!!\n",
      "*\n",
      "*\n",
      "*\n",
      "*\n",
      "*\n",
      "*\n",
      "데이터 수집이 종료되었습니다.\n",
      "자바 시작!!\n",
      "*\n",
      "*\n",
      "*\n",
      "*\n",
      "*\n",
      "*\n",
      "데이터 수집이 종료되었습니다.\n",
      "*\n",
      "*\n",
      "*\n",
      "*\n",
      "*\n",
      "*\n",
      "*\n",
      "*\n",
      "*\n",
      "*\n",
      "자바스크립트 시작!!\n",
      "*\n",
      "*\n",
      "*\n",
      "*\n",
      "데이터 수집이 종료되었습니다.\n",
      "*\n",
      "데이터 수집이 종료되었습니다.\n",
      "비베 시작!!\n",
      "*\n",
      "데이터 수집이 종료되었습니다.\n",
      "*\n",
      "*\n",
      "*\n",
      "*\n",
      "데이터 수집이 종료되었습니다.\n",
      "에스큐엘 시작!!\n",
      "*\n",
      "*\n",
      "*\n",
      "*\n",
      "*\n",
      "*\n",
      "*\n",
      "*\n",
      "*\n",
      "*\n",
      "데이터 수집이 종료되었습니다.\n",
      "피에이치피 시작!!\n",
      "*\n",
      "*\n",
      "*\n",
      "*\n",
      "*\n",
      "*\n",
      "*\n",
      "*\n",
      "*\n",
      "*\n",
      "데이터 수집이 종료되었습니다.\n",
      "끝!!\n"
     ]
    }
   ],
   "source": [
    "print(\"파이썬 시작!!\")\n",
    "python_datas = []\n",
    "giveBookInfo(python_datas , \"파이썬\", 1, 1000)\n",
    "giveBookInfo(python_datas , \"python\", 1, 1000)\n",
    "python = pd.concat(python_datas)\n",
    "python.to_csv(\n",
    "    \"python.csv\", sep=',', encoding=\"UTF-8\"\n",
    ")\n",
    "\n",
    "print(\"씨 시작!!\")\n",
    "c_data = []\n",
    "giveBookInfo(c_data, \"C언어\", 1, 1000)\n",
    "giveBookInfo(c_data, \"C language\", 1, 1000)\n",
    "C_LANGUAGE = pd.concat(c_data)\n",
    "C_LANGUAGE.to_csv(\n",
    "    \"c.csv\", sep=',', encoding=\"UTF-8\"\n",
    ")\n",
    "\n",
    "print(\"씨피피 시작!!\")\n",
    "cpp_data = []\n",
    "giveBookInfo(cpp_data, \"C++\", 1, 1000)\n",
    "Cpp = pd.concat(cpp_data)\n",
    "Cpp.to_csv(\n",
    "    \"c++.csv\", sep=',', encoding=\"UTF-8\"\n",
    ")\n",
    "\n",
    "print(\"씨썁 시작!!\")\n",
    "c_shop_data = []\n",
    "giveBookInfo(c_shop_data, \"C#\", 1, 1000)\n",
    "Cshop = pd.concat(c_shop_data)\n",
    "Cshop.to_csv(\n",
    "    \"C#.csv\", sep=',', encoding=\"UTF-8\"\n",
    ")\n",
    "\n",
    "print(\"자바 시작!!\")\n",
    "java_data = []\n",
    "giveBookInfo(java_data, \"자바\", 1, 1000)\n",
    "giveBookInfo(java_data, \"java\", 1, 1000)\n",
    "java = pd.concat(java_data)\n",
    "java.to_csv(\n",
    "    \"java.csv\", sep=',', encoding=\"UTF-8\"\n",
    ")\n",
    "\n",
    "print(\"자바스크립트 시작!!\")\n",
    "java_script_data = []\n",
    "giveBookInfo(java_script_data, \"자바스크립트\", 1, 1000)\n",
    "giveBookInfo(java_script_data, \"javascipt\", 1, 1000)\n",
    "javascript = pd.concat(java_script_data)\n",
    "javascript.to_csv(\n",
    "    \"javascipt.csv\", sep=',', encoding=\"UTF-8\"\n",
    ")\n",
    "\n",
    "print(\"비베 시작!!\")\n",
    "visualbasic_data = []\n",
    "giveBookInfo(visualbasic_data, \"비쥬얼베이직\", 1, 1000)\n",
    "giveBookInfo(visualbasic_data, \"visual basic\", 1, 1000)\n",
    "visualbasic = pd.concat(visualbasic_data)\n",
    "visualbasic.to_csv(\n",
    "    \"비쥬얼베이직.csv\", sep=',', encoding=\"UTF-8\"\n",
    ")\n",
    "\n",
    "print(\"에스큐엘 시작!!\")\n",
    "SQL_DATA = []\n",
    "giveBookInfo(SQL_DATA, \"SQL\", 1, 1000)\n",
    "SQL = pd.concat(SQL_DATA)\n",
    "SQL.to_csv(\n",
    "    \"SQL.csv\", sep=',', encoding=\"UTF-8\"\n",
    ")\n",
    "\n",
    "print(\"피에이치피 시작!!\")\n",
    "PHP_data = []\n",
    "giveBookInfo(PHP_data, \"PHP\", 1, 1000)\n",
    "PHP = pd.concat(PHP_data)\n",
    "PHP.to_csv(\n",
    "    \"PHP.csv\", sep=',', encoding=\"UTF-8\"\n",
    ")\n",
    "\n",
    "print(\"끝!!\")"
   ]
  },
  {
   "cell_type": "code",
   "execution_count": null,
   "metadata": {},
   "outputs": [],
   "source": []
  }
 ],
 "metadata": {
  "kernelspec": {
   "display_name": "Python 3 (ipykernel)",
   "language": "python",
   "name": "python3"
  },
  "language_info": {
   "codemirror_mode": {
    "name": "ipython",
    "version": 3
   },
   "file_extension": ".py",
   "mimetype": "text/x-python",
   "name": "python",
   "nbconvert_exporter": "python",
   "pygments_lexer": "ipython3",
   "version": "3.8.13"
  }
 },
 "nbformat": 4,
 "nbformat_minor": 4
}
